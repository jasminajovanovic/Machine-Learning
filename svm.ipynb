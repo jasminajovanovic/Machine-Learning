{
  "nbformat": 4,
  "nbformat_minor": 0,
  "metadata": {
    "colab": {
      "name": "svm.ipynb",
      "version": "0.3.2",
      "provenance": [],
      "include_colab_link": true
    },
    "language_info": {
      "codemirror_mode": {
        "name": "ipython",
        "version": 3
      },
      "file_extension": ".py",
      "mimetype": "text/x-python",
      "name": "python",
      "nbconvert_exporter": "python",
      "pygments_lexer": "ipython3",
      "version": "3.7.1"
    },
    "kernelspec": {
      "display_name": "Python [conda env:PythonData]",
      "language": "python",
      "name": "pythondata"
    },
    "accelerator": "GPU"
  },
  "cells": [
    {
      "cell_type": "markdown",
      "metadata": {
        "id": "view-in-github",
        "colab_type": "text"
      },
      "source": [
        "<a href=\"https://colab.research.google.com/github/jasminajovanovic/Machine-Learning/blob/master/svm.ipynb\" target=\"_parent\"><img src=\"https://colab.research.google.com/assets/colab-badge.svg\" alt=\"Open In Colab\"/></a>"
      ]
    },
    {
      "cell_type": "code",
      "metadata": {
        "id": "na-Hqs2Mbnrt",
        "colab_type": "code",
        "colab": {}
      },
      "source": [
        "import pandas as pd\n",
        "from sklearn.model_selection import train_test_split"
      ],
      "execution_count": 0,
      "outputs": []
    },
    {
      "cell_type": "markdown",
      "metadata": {
        "id": "4sTD-lx1bnr9",
        "colab_type": "text"
      },
      "source": [
        "# Read the CSV and Perform Basic Data Cleaning"
      ]
    },
    {
      "cell_type": "code",
      "metadata": {
        "id": "pSWMBpD7bnr_",
        "colab_type": "code",
        "outputId": "5fbc7412-0fb3-44ac-ae05-91a4bf438986",
        "colab": {
          "base_uri": "https://localhost:8080/",
          "height": 226
        }
      },
      "source": [
        "df = pd.read_csv(\"cumulative.csv\")\n",
        "df = df.drop(columns=[\"rowid\", \"kepid\", \"kepoi_name\", \"kepler_name\", \"koi_pdisposition\", \"koi_score\", \"koi_tce_delivname\"])\n",
        "# Drop the null columns where all values are null\n",
        "df = df.dropna(axis='columns', how='all')\n",
        "# Drop the null rows\n",
        "df = df.dropna()\n",
        "df.head()"
      ],
      "execution_count": 4,
      "outputs": [
        {
          "output_type": "execute_result",
          "data": {
            "text/html": [
              "<div>\n",
              "<style scoped>\n",
              "    .dataframe tbody tr th:only-of-type {\n",
              "        vertical-align: middle;\n",
              "    }\n",
              "\n",
              "    .dataframe tbody tr th {\n",
              "        vertical-align: top;\n",
              "    }\n",
              "\n",
              "    .dataframe thead th {\n",
              "        text-align: right;\n",
              "    }\n",
              "</style>\n",
              "<table border=\"1\" class=\"dataframe\">\n",
              "  <thead>\n",
              "    <tr style=\"text-align: right;\">\n",
              "      <th></th>\n",
              "      <th>koi_disposition</th>\n",
              "      <th>koi_fpflag_nt</th>\n",
              "      <th>koi_fpflag_ss</th>\n",
              "      <th>koi_fpflag_co</th>\n",
              "      <th>koi_fpflag_ec</th>\n",
              "      <th>koi_period</th>\n",
              "      <th>koi_period_err1</th>\n",
              "      <th>koi_period_err2</th>\n",
              "      <th>koi_time0bk</th>\n",
              "      <th>koi_time0bk_err1</th>\n",
              "      <th>koi_time0bk_err2</th>\n",
              "      <th>koi_impact</th>\n",
              "      <th>koi_impact_err1</th>\n",
              "      <th>koi_impact_err2</th>\n",
              "      <th>koi_duration</th>\n",
              "      <th>koi_duration_err1</th>\n",
              "      <th>koi_duration_err2</th>\n",
              "      <th>koi_depth</th>\n",
              "      <th>koi_depth_err1</th>\n",
              "      <th>koi_depth_err2</th>\n",
              "      <th>koi_prad</th>\n",
              "      <th>koi_prad_err1</th>\n",
              "      <th>koi_prad_err2</th>\n",
              "      <th>koi_teq</th>\n",
              "      <th>koi_insol</th>\n",
              "      <th>koi_insol_err1</th>\n",
              "      <th>koi_insol_err2</th>\n",
              "      <th>koi_model_snr</th>\n",
              "      <th>koi_tce_plnt_num</th>\n",
              "      <th>koi_steff</th>\n",
              "      <th>koi_steff_err1</th>\n",
              "      <th>koi_steff_err2</th>\n",
              "      <th>koi_slogg</th>\n",
              "      <th>koi_slogg_err1</th>\n",
              "      <th>koi_slogg_err2</th>\n",
              "      <th>koi_srad</th>\n",
              "      <th>koi_srad_err1</th>\n",
              "      <th>koi_srad_err2</th>\n",
              "      <th>ra</th>\n",
              "      <th>dec</th>\n",
              "      <th>koi_kepmag</th>\n",
              "    </tr>\n",
              "  </thead>\n",
              "  <tbody>\n",
              "    <tr>\n",
              "      <th>0</th>\n",
              "      <td>CONFIRMED</td>\n",
              "      <td>0</td>\n",
              "      <td>0</td>\n",
              "      <td>0</td>\n",
              "      <td>0</td>\n",
              "      <td>9.488036</td>\n",
              "      <td>2.775000e-05</td>\n",
              "      <td>-2.775000e-05</td>\n",
              "      <td>170.538750</td>\n",
              "      <td>0.002160</td>\n",
              "      <td>-0.002160</td>\n",
              "      <td>0.146</td>\n",
              "      <td>0.318</td>\n",
              "      <td>-0.146</td>\n",
              "      <td>2.95750</td>\n",
              "      <td>0.08190</td>\n",
              "      <td>-0.08190</td>\n",
              "      <td>615.8</td>\n",
              "      <td>19.5</td>\n",
              "      <td>-19.5</td>\n",
              "      <td>2.26</td>\n",
              "      <td>0.26</td>\n",
              "      <td>-0.15</td>\n",
              "      <td>793.0</td>\n",
              "      <td>93.59</td>\n",
              "      <td>29.45</td>\n",
              "      <td>-16.65</td>\n",
              "      <td>35.8</td>\n",
              "      <td>1.0</td>\n",
              "      <td>5455.0</td>\n",
              "      <td>81.0</td>\n",
              "      <td>-81.0</td>\n",
              "      <td>4.467</td>\n",
              "      <td>0.064</td>\n",
              "      <td>-0.096</td>\n",
              "      <td>0.927</td>\n",
              "      <td>0.105</td>\n",
              "      <td>-0.061</td>\n",
              "      <td>291.93423</td>\n",
              "      <td>48.141651</td>\n",
              "      <td>15.347</td>\n",
              "    </tr>\n",
              "    <tr>\n",
              "      <th>1</th>\n",
              "      <td>CONFIRMED</td>\n",
              "      <td>0</td>\n",
              "      <td>0</td>\n",
              "      <td>0</td>\n",
              "      <td>0</td>\n",
              "      <td>54.418383</td>\n",
              "      <td>2.479000e-04</td>\n",
              "      <td>-2.479000e-04</td>\n",
              "      <td>162.513840</td>\n",
              "      <td>0.003520</td>\n",
              "      <td>-0.003520</td>\n",
              "      <td>0.586</td>\n",
              "      <td>0.059</td>\n",
              "      <td>-0.443</td>\n",
              "      <td>4.50700</td>\n",
              "      <td>0.11600</td>\n",
              "      <td>-0.11600</td>\n",
              "      <td>874.8</td>\n",
              "      <td>35.5</td>\n",
              "      <td>-35.5</td>\n",
              "      <td>2.83</td>\n",
              "      <td>0.32</td>\n",
              "      <td>-0.19</td>\n",
              "      <td>443.0</td>\n",
              "      <td>9.11</td>\n",
              "      <td>2.87</td>\n",
              "      <td>-1.62</td>\n",
              "      <td>25.8</td>\n",
              "      <td>2.0</td>\n",
              "      <td>5455.0</td>\n",
              "      <td>81.0</td>\n",
              "      <td>-81.0</td>\n",
              "      <td>4.467</td>\n",
              "      <td>0.064</td>\n",
              "      <td>-0.096</td>\n",
              "      <td>0.927</td>\n",
              "      <td>0.105</td>\n",
              "      <td>-0.061</td>\n",
              "      <td>291.93423</td>\n",
              "      <td>48.141651</td>\n",
              "      <td>15.347</td>\n",
              "    </tr>\n",
              "    <tr>\n",
              "      <th>2</th>\n",
              "      <td>FALSE POSITIVE</td>\n",
              "      <td>0</td>\n",
              "      <td>1</td>\n",
              "      <td>0</td>\n",
              "      <td>0</td>\n",
              "      <td>19.899140</td>\n",
              "      <td>1.494000e-05</td>\n",
              "      <td>-1.494000e-05</td>\n",
              "      <td>175.850252</td>\n",
              "      <td>0.000581</td>\n",
              "      <td>-0.000581</td>\n",
              "      <td>0.969</td>\n",
              "      <td>5.126</td>\n",
              "      <td>-0.077</td>\n",
              "      <td>1.78220</td>\n",
              "      <td>0.03410</td>\n",
              "      <td>-0.03410</td>\n",
              "      <td>10829.0</td>\n",
              "      <td>171.0</td>\n",
              "      <td>-171.0</td>\n",
              "      <td>14.60</td>\n",
              "      <td>3.92</td>\n",
              "      <td>-1.31</td>\n",
              "      <td>638.0</td>\n",
              "      <td>39.30</td>\n",
              "      <td>31.04</td>\n",
              "      <td>-10.49</td>\n",
              "      <td>76.3</td>\n",
              "      <td>1.0</td>\n",
              "      <td>5853.0</td>\n",
              "      <td>158.0</td>\n",
              "      <td>-176.0</td>\n",
              "      <td>4.544</td>\n",
              "      <td>0.044</td>\n",
              "      <td>-0.176</td>\n",
              "      <td>0.868</td>\n",
              "      <td>0.233</td>\n",
              "      <td>-0.078</td>\n",
              "      <td>297.00482</td>\n",
              "      <td>48.134129</td>\n",
              "      <td>15.436</td>\n",
              "    </tr>\n",
              "    <tr>\n",
              "      <th>3</th>\n",
              "      <td>FALSE POSITIVE</td>\n",
              "      <td>0</td>\n",
              "      <td>1</td>\n",
              "      <td>0</td>\n",
              "      <td>0</td>\n",
              "      <td>1.736952</td>\n",
              "      <td>2.630000e-07</td>\n",
              "      <td>-2.630000e-07</td>\n",
              "      <td>170.307565</td>\n",
              "      <td>0.000115</td>\n",
              "      <td>-0.000115</td>\n",
              "      <td>1.276</td>\n",
              "      <td>0.115</td>\n",
              "      <td>-0.092</td>\n",
              "      <td>2.40641</td>\n",
              "      <td>0.00537</td>\n",
              "      <td>-0.00537</td>\n",
              "      <td>8079.2</td>\n",
              "      <td>12.8</td>\n",
              "      <td>-12.8</td>\n",
              "      <td>33.46</td>\n",
              "      <td>8.50</td>\n",
              "      <td>-2.83</td>\n",
              "      <td>1395.0</td>\n",
              "      <td>891.96</td>\n",
              "      <td>668.95</td>\n",
              "      <td>-230.35</td>\n",
              "      <td>505.6</td>\n",
              "      <td>1.0</td>\n",
              "      <td>5805.0</td>\n",
              "      <td>157.0</td>\n",
              "      <td>-174.0</td>\n",
              "      <td>4.564</td>\n",
              "      <td>0.053</td>\n",
              "      <td>-0.168</td>\n",
              "      <td>0.791</td>\n",
              "      <td>0.201</td>\n",
              "      <td>-0.067</td>\n",
              "      <td>285.53461</td>\n",
              "      <td>48.285210</td>\n",
              "      <td>15.597</td>\n",
              "    </tr>\n",
              "    <tr>\n",
              "      <th>4</th>\n",
              "      <td>CONFIRMED</td>\n",
              "      <td>0</td>\n",
              "      <td>0</td>\n",
              "      <td>0</td>\n",
              "      <td>0</td>\n",
              "      <td>2.525592</td>\n",
              "      <td>3.761000e-06</td>\n",
              "      <td>-3.761000e-06</td>\n",
              "      <td>171.595550</td>\n",
              "      <td>0.001130</td>\n",
              "      <td>-0.001130</td>\n",
              "      <td>0.701</td>\n",
              "      <td>0.235</td>\n",
              "      <td>-0.478</td>\n",
              "      <td>1.65450</td>\n",
              "      <td>0.04200</td>\n",
              "      <td>-0.04200</td>\n",
              "      <td>603.3</td>\n",
              "      <td>16.9</td>\n",
              "      <td>-16.9</td>\n",
              "      <td>2.75</td>\n",
              "      <td>0.88</td>\n",
              "      <td>-0.35</td>\n",
              "      <td>1406.0</td>\n",
              "      <td>926.16</td>\n",
              "      <td>874.33</td>\n",
              "      <td>-314.24</td>\n",
              "      <td>40.9</td>\n",
              "      <td>1.0</td>\n",
              "      <td>6031.0</td>\n",
              "      <td>169.0</td>\n",
              "      <td>-211.0</td>\n",
              "      <td>4.438</td>\n",
              "      <td>0.070</td>\n",
              "      <td>-0.210</td>\n",
              "      <td>1.046</td>\n",
              "      <td>0.334</td>\n",
              "      <td>-0.133</td>\n",
              "      <td>288.75488</td>\n",
              "      <td>48.226200</td>\n",
              "      <td>15.509</td>\n",
              "    </tr>\n",
              "  </tbody>\n",
              "</table>\n",
              "</div>"
            ],
            "text/plain": [
              "  koi_disposition  koi_fpflag_nt  ...        dec  koi_kepmag\n",
              "0       CONFIRMED              0  ...  48.141651      15.347\n",
              "1       CONFIRMED              0  ...  48.141651      15.347\n",
              "2  FALSE POSITIVE              0  ...  48.134129      15.436\n",
              "3  FALSE POSITIVE              0  ...  48.285210      15.597\n",
              "4       CONFIRMED              0  ...  48.226200      15.509\n",
              "\n",
              "[5 rows x 41 columns]"
            ]
          },
          "metadata": {
            "tags": []
          },
          "execution_count": 4
        }
      ]
    },
    {
      "cell_type": "markdown",
      "metadata": {
        "id": "TogGHNQdbnsL",
        "colab_type": "text"
      },
      "source": [
        "# Create a Train Test Split\n",
        "\n",
        "Use `koi_disposition` for the y values"
      ]
    },
    {
      "cell_type": "code",
      "metadata": {
        "id": "7PPIWsB9bnsN",
        "colab_type": "code",
        "colab": {}
      },
      "source": [
        "y = df[\"koi_disposition\"]"
      ],
      "execution_count": 0,
      "outputs": []
    },
    {
      "cell_type": "code",
      "metadata": {
        "id": "hvHVBa6feca6",
        "colab_type": "code",
        "outputId": "deea0d18-031d-4a01-eb13-cf2f39a96ba6",
        "colab": {
          "base_uri": "https://localhost:8080/",
          "height": 36
        }
      },
      "source": [
        "y.shape"
      ],
      "execution_count": 6,
      "outputs": [
        {
          "output_type": "execute_result",
          "data": {
            "text/plain": [
              "(8744,)"
            ]
          },
          "metadata": {
            "tags": []
          },
          "execution_count": 6
        }
      ]
    },
    {
      "cell_type": "code",
      "metadata": {
        "id": "dTPp74w_bnsT",
        "colab_type": "code",
        "colab": {}
      },
      "source": [
        "X = df.drop(columns=\"koi_disposition\")"
      ],
      "execution_count": 0,
      "outputs": []
    },
    {
      "cell_type": "code",
      "metadata": {
        "id": "S-5_4uKnbnsg",
        "colab_type": "code",
        "colab": {
          "base_uri": "https://localhost:8080/",
          "height": 36
        },
        "outputId": "dcc0ca47-a215-4f79-d784-8e0e2a95d680"
      },
      "source": [
        "from sklearn.preprocessing import LabelEncoder\n",
        "label_encoder = LabelEncoder()\n",
        "label_encoder.fit(y)\n",
        "encoded_y = label_encoder.transform(y)\n",
        "\n",
        "from keras.utils import to_categorical\n",
        "\n",
        "# # Step 2: One-hot encoding\n",
        "# y = to_categorical(encoded_y)\n",
        "y = encoded_y"
      ],
      "execution_count": 8,
      "outputs": [
        {
          "output_type": "stream",
          "text": [
            "Using TensorFlow backend.\n"
          ],
          "name": "stderr"
        }
      ]
    },
    {
      "cell_type": "code",
      "metadata": {
        "id": "Tqab6t7dbnsn",
        "colab_type": "code",
        "colab": {}
      },
      "source": [
        "X_train, X_test, y_train, y_test = train_test_split(X, y, random_state=42)"
      ],
      "execution_count": 0,
      "outputs": []
    },
    {
      "cell_type": "code",
      "metadata": {
        "id": "7HdZ54tYbnst",
        "colab_type": "code",
        "outputId": "72747ae8-e17f-445a-9bdc-ea05e01b54ab",
        "colab": {
          "base_uri": "https://localhost:8080/",
          "height": 226
        }
      },
      "source": [
        "X_train.head()"
      ],
      "execution_count": 10,
      "outputs": [
        {
          "output_type": "execute_result",
          "data": {
            "text/html": [
              "<div>\n",
              "<style scoped>\n",
              "    .dataframe tbody tr th:only-of-type {\n",
              "        vertical-align: middle;\n",
              "    }\n",
              "\n",
              "    .dataframe tbody tr th {\n",
              "        vertical-align: top;\n",
              "    }\n",
              "\n",
              "    .dataframe thead th {\n",
              "        text-align: right;\n",
              "    }\n",
              "</style>\n",
              "<table border=\"1\" class=\"dataframe\">\n",
              "  <thead>\n",
              "    <tr style=\"text-align: right;\">\n",
              "      <th></th>\n",
              "      <th>koi_fpflag_nt</th>\n",
              "      <th>koi_fpflag_ss</th>\n",
              "      <th>koi_fpflag_co</th>\n",
              "      <th>koi_fpflag_ec</th>\n",
              "      <th>koi_period</th>\n",
              "      <th>koi_period_err1</th>\n",
              "      <th>koi_period_err2</th>\n",
              "      <th>koi_time0bk</th>\n",
              "      <th>koi_time0bk_err1</th>\n",
              "      <th>koi_time0bk_err2</th>\n",
              "      <th>koi_impact</th>\n",
              "      <th>koi_impact_err1</th>\n",
              "      <th>koi_impact_err2</th>\n",
              "      <th>koi_duration</th>\n",
              "      <th>koi_duration_err1</th>\n",
              "      <th>koi_duration_err2</th>\n",
              "      <th>koi_depth</th>\n",
              "      <th>koi_depth_err1</th>\n",
              "      <th>koi_depth_err2</th>\n",
              "      <th>koi_prad</th>\n",
              "      <th>koi_prad_err1</th>\n",
              "      <th>koi_prad_err2</th>\n",
              "      <th>koi_teq</th>\n",
              "      <th>koi_insol</th>\n",
              "      <th>koi_insol_err1</th>\n",
              "      <th>koi_insol_err2</th>\n",
              "      <th>koi_model_snr</th>\n",
              "      <th>koi_tce_plnt_num</th>\n",
              "      <th>koi_steff</th>\n",
              "      <th>koi_steff_err1</th>\n",
              "      <th>koi_steff_err2</th>\n",
              "      <th>koi_slogg</th>\n",
              "      <th>koi_slogg_err1</th>\n",
              "      <th>koi_slogg_err2</th>\n",
              "      <th>koi_srad</th>\n",
              "      <th>koi_srad_err1</th>\n",
              "      <th>koi_srad_err2</th>\n",
              "      <th>ra</th>\n",
              "      <th>dec</th>\n",
              "      <th>koi_kepmag</th>\n",
              "    </tr>\n",
              "  </thead>\n",
              "  <tbody>\n",
              "    <tr>\n",
              "      <th>8017</th>\n",
              "      <td>0</td>\n",
              "      <td>1</td>\n",
              "      <td>1</td>\n",
              "      <td>0</td>\n",
              "      <td>0.806277</td>\n",
              "      <td>4.947000e-06</td>\n",
              "      <td>-4.947000e-06</td>\n",
              "      <td>131.785670</td>\n",
              "      <td>0.006720</td>\n",
              "      <td>-0.006720</td>\n",
              "      <td>0.697</td>\n",
              "      <td>0.260</td>\n",
              "      <td>-0.451</td>\n",
              "      <td>7.27500</td>\n",
              "      <td>0.31200</td>\n",
              "      <td>-0.31200</td>\n",
              "      <td>70.8</td>\n",
              "      <td>3.8</td>\n",
              "      <td>-3.8</td>\n",
              "      <td>0.89</td>\n",
              "      <td>0.29</td>\n",
              "      <td>-0.09</td>\n",
              "      <td>2046.0</td>\n",
              "      <td>4119.09</td>\n",
              "      <td>3927.86</td>\n",
              "      <td>-1221.11</td>\n",
              "      <td>37.9</td>\n",
              "      <td>1.0</td>\n",
              "      <td>6122.0</td>\n",
              "      <td>165.0</td>\n",
              "      <td>-184.0</td>\n",
              "      <td>4.471</td>\n",
              "      <td>0.054</td>\n",
              "      <td>-0.229</td>\n",
              "      <td>0.996</td>\n",
              "      <td>0.324</td>\n",
              "      <td>-0.108</td>\n",
              "      <td>290.81723</td>\n",
              "      <td>38.539120</td>\n",
              "      <td>13.614</td>\n",
              "    </tr>\n",
              "    <tr>\n",
              "      <th>1233</th>\n",
              "      <td>0</td>\n",
              "      <td>1</td>\n",
              "      <td>1</td>\n",
              "      <td>0</td>\n",
              "      <td>3.582077</td>\n",
              "      <td>4.318000e-06</td>\n",
              "      <td>-4.318000e-06</td>\n",
              "      <td>355.515064</td>\n",
              "      <td>0.000864</td>\n",
              "      <td>-0.000864</td>\n",
              "      <td>0.966</td>\n",
              "      <td>0.011</td>\n",
              "      <td>-0.008</td>\n",
              "      <td>4.42280</td>\n",
              "      <td>0.06360</td>\n",
              "      <td>-0.06360</td>\n",
              "      <td>1534.4</td>\n",
              "      <td>17.7</td>\n",
              "      <td>-17.7</td>\n",
              "      <td>5.33</td>\n",
              "      <td>1.52</td>\n",
              "      <td>-0.70</td>\n",
              "      <td>1265.0</td>\n",
              "      <td>604.27</td>\n",
              "      <td>524.99</td>\n",
              "      <td>-215.04</td>\n",
              "      <td>138.4</td>\n",
              "      <td>1.0</td>\n",
              "      <td>6109.0</td>\n",
              "      <td>192.0</td>\n",
              "      <td>-235.0</td>\n",
              "      <td>4.422</td>\n",
              "      <td>0.090</td>\n",
              "      <td>-0.195</td>\n",
              "      <td>0.993</td>\n",
              "      <td>0.283</td>\n",
              "      <td>-0.131</td>\n",
              "      <td>296.07822</td>\n",
              "      <td>43.136940</td>\n",
              "      <td>15.193</td>\n",
              "    </tr>\n",
              "    <tr>\n",
              "      <th>2592</th>\n",
              "      <td>0</td>\n",
              "      <td>0</td>\n",
              "      <td>0</td>\n",
              "      <td>0</td>\n",
              "      <td>5.060923</td>\n",
              "      <td>2.616000e-05</td>\n",
              "      <td>-2.616000e-05</td>\n",
              "      <td>134.473160</td>\n",
              "      <td>0.004730</td>\n",
              "      <td>-0.004730</td>\n",
              "      <td>0.944</td>\n",
              "      <td>0.006</td>\n",
              "      <td>-0.643</td>\n",
              "      <td>2.58600</td>\n",
              "      <td>0.11400</td>\n",
              "      <td>-0.11400</td>\n",
              "      <td>71.6</td>\n",
              "      <td>5.3</td>\n",
              "      <td>-5.3</td>\n",
              "      <td>0.98</td>\n",
              "      <td>0.13</td>\n",
              "      <td>-0.06</td>\n",
              "      <td>998.0</td>\n",
              "      <td>234.93</td>\n",
              "      <td>88.75</td>\n",
              "      <td>-45.74</td>\n",
              "      <td>15.7</td>\n",
              "      <td>1.0</td>\n",
              "      <td>5637.0</td>\n",
              "      <td>101.0</td>\n",
              "      <td>-112.0</td>\n",
              "      <td>4.492</td>\n",
              "      <td>0.048</td>\n",
              "      <td>-0.112</td>\n",
              "      <td>0.911</td>\n",
              "      <td>0.121</td>\n",
              "      <td>-0.060</td>\n",
              "      <td>289.91742</td>\n",
              "      <td>40.828606</td>\n",
              "      <td>13.346</td>\n",
              "    </tr>\n",
              "    <tr>\n",
              "      <th>4770</th>\n",
              "      <td>0</td>\n",
              "      <td>1</td>\n",
              "      <td>0</td>\n",
              "      <td>1</td>\n",
              "      <td>8.480304</td>\n",
              "      <td>3.320000e-07</td>\n",
              "      <td>-3.320000e-07</td>\n",
              "      <td>135.854534</td>\n",
              "      <td>0.000031</td>\n",
              "      <td>-0.000031</td>\n",
              "      <td>0.235</td>\n",
              "      <td>0.003</td>\n",
              "      <td>-0.003</td>\n",
              "      <td>7.46159</td>\n",
              "      <td>0.00234</td>\n",
              "      <td>-0.00234</td>\n",
              "      <td>83115.0</td>\n",
              "      <td>18.9</td>\n",
              "      <td>-18.9</td>\n",
              "      <td>65.00</td>\n",
              "      <td>11.03</td>\n",
              "      <td>-16.56</td>\n",
              "      <td>1504.0</td>\n",
              "      <td>1210.22</td>\n",
              "      <td>566.98</td>\n",
              "      <td>-600.16</td>\n",
              "      <td>5219.5</td>\n",
              "      <td>1.0</td>\n",
              "      <td>7059.0</td>\n",
              "      <td>126.0</td>\n",
              "      <td>-169.0</td>\n",
              "      <td>3.946</td>\n",
              "      <td>0.195</td>\n",
              "      <td>-0.105</td>\n",
              "      <td>2.210</td>\n",
              "      <td>0.375</td>\n",
              "      <td>-0.563</td>\n",
              "      <td>298.80020</td>\n",
              "      <td>46.665539</td>\n",
              "      <td>7.631</td>\n",
              "    </tr>\n",
              "    <tr>\n",
              "      <th>6632</th>\n",
              "      <td>0</td>\n",
              "      <td>0</td>\n",
              "      <td>0</td>\n",
              "      <td>1</td>\n",
              "      <td>4.994716</td>\n",
              "      <td>4.495000e-05</td>\n",
              "      <td>-4.495000e-05</td>\n",
              "      <td>136.183300</td>\n",
              "      <td>0.009500</td>\n",
              "      <td>-0.009500</td>\n",
              "      <td>0.698</td>\n",
              "      <td>0.277</td>\n",
              "      <td>-0.462</td>\n",
              "      <td>3.44000</td>\n",
              "      <td>0.25700</td>\n",
              "      <td>-0.25700</td>\n",
              "      <td>53.0</td>\n",
              "      <td>4.6</td>\n",
              "      <td>-4.6</td>\n",
              "      <td>2.20</td>\n",
              "      <td>0.35</td>\n",
              "      <td>-0.83</td>\n",
              "      <td>1861.0</td>\n",
              "      <td>2836.06</td>\n",
              "      <td>1425.22</td>\n",
              "      <td>-1863.86</td>\n",
              "      <td>14.1</td>\n",
              "      <td>1.0</td>\n",
              "      <td>6409.0</td>\n",
              "      <td>174.0</td>\n",
              "      <td>-194.0</td>\n",
              "      <td>3.706</td>\n",
              "      <td>0.320</td>\n",
              "      <td>-0.080</td>\n",
              "      <td>2.830</td>\n",
              "      <td>0.458</td>\n",
              "      <td>-1.068</td>\n",
              "      <td>282.58215</td>\n",
              "      <td>46.815510</td>\n",
              "      <td>13.352</td>\n",
              "    </tr>\n",
              "  </tbody>\n",
              "</table>\n",
              "</div>"
            ],
            "text/plain": [
              "      koi_fpflag_nt  koi_fpflag_ss  ...        dec  koi_kepmag\n",
              "8017              0              1  ...  38.539120      13.614\n",
              "1233              0              1  ...  43.136940      15.193\n",
              "2592              0              0  ...  40.828606      13.346\n",
              "4770              0              1  ...  46.665539       7.631\n",
              "6632              0              0  ...  46.815510      13.352\n",
              "\n",
              "[5 rows x 40 columns]"
            ]
          },
          "metadata": {
            "tags": []
          },
          "execution_count": 10
        }
      ]
    },
    {
      "cell_type": "code",
      "metadata": {
        "id": "LrYdp5TNbnsz",
        "colab_type": "code",
        "outputId": "fa0e1361-b770-41c4-d740-2fd995946064",
        "colab": {
          "base_uri": "https://localhost:8080/",
          "height": 36
        }
      },
      "source": [
        "y_train\n"
      ],
      "execution_count": 11,
      "outputs": [
        {
          "output_type": "execute_result",
          "data": {
            "text/plain": [
              "array([2, 2, 0, ..., 2, 1, 2])"
            ]
          },
          "metadata": {
            "tags": []
          },
          "execution_count": 11
        }
      ]
    },
    {
      "cell_type": "code",
      "metadata": {
        "id": "O1TmLHSjdXc5",
        "colab_type": "code",
        "outputId": "e0c4bf6c-e9ea-47ce-f069-38fa7d88dce4",
        "colab": {
          "base_uri": "https://localhost:8080/",
          "height": 36
        }
      },
      "source": [
        "y.shape"
      ],
      "execution_count": 12,
      "outputs": [
        {
          "output_type": "execute_result",
          "data": {
            "text/plain": [
              "(8744,)"
            ]
          },
          "metadata": {
            "tags": []
          },
          "execution_count": 12
        }
      ]
    },
    {
      "cell_type": "markdown",
      "metadata": {
        "id": "ZdQXPgSEbns_",
        "colab_type": "raw"
      },
      "source": [
        ""
      ]
    },
    {
      "cell_type": "markdown",
      "metadata": {
        "id": "ylefIqjlbntF",
        "colab_type": "text"
      },
      "source": [
        "# Pre-processing\n",
        "\n",
        "Scale the data using the MinMaxScaler"
      ]
    },
    {
      "cell_type": "code",
      "metadata": {
        "id": "uHYazM37bntH",
        "colab_type": "code",
        "colab": {}
      },
      "source": [
        "from sklearn.preprocessing import MinMaxScaler\n",
        "X_minmax = MinMaxScaler().fit(X_train)\n",
        "# y_minmax = MinMaxScaler().fit(y_train)\n",
        "\n",
        "X_train_minmax = X_minmax.transform(X_train)\n",
        "X_test_minmax = X_minmax.transform(X_test)\n",
        "# y_train_minmax = y_minmax.transform(y_train)\n",
        "# y_test_minmax = y_minmax.transform(y_test)"
      ],
      "execution_count": 0,
      "outputs": []
    },
    {
      "cell_type": "markdown",
      "metadata": {
        "id": "MIM7yGfdbntP",
        "colab_type": "text"
      },
      "source": [
        "# Train the Support Vector Machine"
      ]
    },
    {
      "cell_type": "code",
      "metadata": {
        "id": "kjagTRxKbntQ",
        "colab_type": "code",
        "colab": {}
      },
      "source": [
        "from sklearn.svm import SVC\n",
        "model = SVC(kernel='linear')\n",
        "model.fit(X, y)"
      ],
      "execution_count": 0,
      "outputs": []
    },
    {
      "cell_type": "code",
      "metadata": {
        "id": "1_Fp4CvVbntV",
        "colab_type": "code",
        "colab": {
          "base_uri": "https://localhost:8080/",
          "height": 193
        },
        "outputId": "2684bc31-0a5e-4e1a-b5e9-2ad0efded7f3"
      },
      "source": [
        "print(f\"Training Data Score: {model.score(X_train_scaled, y_train)}\")\n",
        "print(f\"Testing Data Score: {model.score(X_test_scaled, y_test)}\")"
      ],
      "execution_count": 1,
      "outputs": [
        {
          "output_type": "error",
          "ename": "NameError",
          "evalue": "ignored",
          "traceback": [
            "\u001b[0;31m---------------------------------------------------------------------------\u001b[0m",
            "\u001b[0;31mNameError\u001b[0m                                 Traceback (most recent call last)",
            "\u001b[0;32m<ipython-input-1-bb498b3bd2db>\u001b[0m in \u001b[0;36m<module>\u001b[0;34m()\u001b[0m\n\u001b[0;32m----> 1\u001b[0;31m \u001b[0mprint\u001b[0m\u001b[0;34m(\u001b[0m\u001b[0;34mf\"Training Data Score: {model.score(X_train_scaled, y_train)}\"\u001b[0m\u001b[0;34m)\u001b[0m\u001b[0;34m\u001b[0m\u001b[0;34m\u001b[0m\u001b[0m\n\u001b[0m\u001b[1;32m      2\u001b[0m \u001b[0mprint\u001b[0m\u001b[0;34m(\u001b[0m\u001b[0;34mf\"Testing Data Score: {model.score(X_test_scaled, y_test)}\"\u001b[0m\u001b[0;34m)\u001b[0m\u001b[0;34m\u001b[0m\u001b[0;34m\u001b[0m\u001b[0m\n",
            "\u001b[0;31mNameError\u001b[0m: name 'model' is not defined"
          ]
        }
      ]
    },
    {
      "cell_type": "markdown",
      "metadata": {
        "id": "S4iSHNjsbntY",
        "colab_type": "text"
      },
      "source": [
        "# Hyperparameter Tuning\n",
        "\n",
        "Use `GridSearchCV` to tune the `C` and `gamma` parameters"
      ]
    },
    {
      "cell_type": "code",
      "metadata": {
        "id": "NAYyHsiDbntc",
        "colab_type": "code",
        "colab": {}
      },
      "source": [
        "# Create the GridSearchCV model"
      ],
      "execution_count": 0,
      "outputs": []
    },
    {
      "cell_type": "code",
      "metadata": {
        "id": "BqycYDzRbntf",
        "colab_type": "code",
        "colab": {}
      },
      "source": [
        "# Train the model with GridSearch"
      ],
      "execution_count": 0,
      "outputs": []
    },
    {
      "cell_type": "code",
      "metadata": {
        "id": "x71hxUOUbntk",
        "colab_type": "code",
        "colab": {}
      },
      "source": [
        "print(grid2.best_params_)\n",
        "print(grid2.best_score_)"
      ],
      "execution_count": 0,
      "outputs": []
    }
  ]
}