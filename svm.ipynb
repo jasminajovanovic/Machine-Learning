{
  "nbformat": 4,
  "nbformat_minor": 0,
  "metadata": {
    "colab": {
      "name": "svm.ipynb",
      "version": "0.3.2",
      "provenance": [],
      "include_colab_link": true
    },
    "language_info": {
      "codemirror_mode": {
        "name": "ipython",
        "version": 3
      },
      "file_extension": ".py",
      "mimetype": "text/x-python",
      "name": "python",
      "nbconvert_exporter": "python",
      "pygments_lexer": "ipython3",
      "version": "3.7.1"
    },
    "kernelspec": {
      "display_name": "Python [conda env:PythonData]",
      "language": "python",
      "name": "pythondata"
    },
    "accelerator": "GPU"
  },
  "cells": [
    {
      "cell_type": "markdown",
      "metadata": {
        "id": "view-in-github",
        "colab_type": "text"
      },
      "source": [
        "<a href=\"https://colab.research.google.com/github/jasminajovanovic/Machine-Learning/blob/master/svm.ipynb\" target=\"_parent\"><img src=\"https://colab.research.google.com/assets/colab-badge.svg\" alt=\"Open In Colab\"/></a>"
      ]
    },
    {
      "cell_type": "code",
      "metadata": {
        "id": "na-Hqs2Mbnrt",
        "colab_type": "code",
        "colab": {}
      },
      "source": [
        "import pandas as pd\n",
        "from sklearn.model_selection import train_test_split\n",
        "from sklearn.metrics import classification_report\n",
        "from sklearn.preprocessing import MinMaxScaler\n",
        "from sklearn.model_selection import GridSearchCV\n",
        "from sklearn.ensemble import RandomForestClassifier\n",
        "\n",
        "\n",
        "\n"
      ],
      "execution_count": 0,
      "outputs": []
    },
    {
      "cell_type": "markdown",
      "metadata": {
        "id": "4sTD-lx1bnr9",
        "colab_type": "text"
      },
      "source": [
        "# Read the CSV and Perform Basic Data Cleaning"
      ]
    },
    {
      "cell_type": "code",
      "metadata": {
        "id": "pSWMBpD7bnr_",
        "colab_type": "code",
        "outputId": "55856834-71c1-452c-cbcc-0b5e5dc68d3d",
        "colab": {
          "base_uri": "https://localhost:8080/",
          "height": 226
        }
      },
      "source": [
        "df = pd.read_csv(\"cumulative.csv\")\n",
        "df = df.drop(columns=[\"rowid\", \"kepid\", \"kepoi_name\", \"kepler_name\", \"koi_pdisposition\", \"koi_score\", \"koi_tce_delivname\"])\n",
        "# Drop the null columns where all values are null\n",
        "df = df.dropna(axis='columns', how='all')\n",
        "# Drop the null rows\n",
        "df = df.dropna()\n",
        "df.head()"
      ],
      "execution_count": 3,
      "outputs": [
        {
          "output_type": "execute_result",
          "data": {
            "text/html": [
              "<div>\n",
              "<style scoped>\n",
              "    .dataframe tbody tr th:only-of-type {\n",
              "        vertical-align: middle;\n",
              "    }\n",
              "\n",
              "    .dataframe tbody tr th {\n",
              "        vertical-align: top;\n",
              "    }\n",
              "\n",
              "    .dataframe thead th {\n",
              "        text-align: right;\n",
              "    }\n",
              "</style>\n",
              "<table border=\"1\" class=\"dataframe\">\n",
              "  <thead>\n",
              "    <tr style=\"text-align: right;\">\n",
              "      <th></th>\n",
              "      <th>koi_disposition</th>\n",
              "      <th>koi_fpflag_nt</th>\n",
              "      <th>koi_fpflag_ss</th>\n",
              "      <th>koi_fpflag_co</th>\n",
              "      <th>koi_fpflag_ec</th>\n",
              "      <th>koi_period</th>\n",
              "      <th>koi_period_err1</th>\n",
              "      <th>koi_period_err2</th>\n",
              "      <th>koi_time0bk</th>\n",
              "      <th>koi_time0bk_err1</th>\n",
              "      <th>koi_time0bk_err2</th>\n",
              "      <th>koi_impact</th>\n",
              "      <th>koi_impact_err1</th>\n",
              "      <th>koi_impact_err2</th>\n",
              "      <th>koi_duration</th>\n",
              "      <th>koi_duration_err1</th>\n",
              "      <th>koi_duration_err2</th>\n",
              "      <th>koi_depth</th>\n",
              "      <th>koi_depth_err1</th>\n",
              "      <th>koi_depth_err2</th>\n",
              "      <th>koi_prad</th>\n",
              "      <th>koi_prad_err1</th>\n",
              "      <th>koi_prad_err2</th>\n",
              "      <th>koi_teq</th>\n",
              "      <th>koi_insol</th>\n",
              "      <th>koi_insol_err1</th>\n",
              "      <th>koi_insol_err2</th>\n",
              "      <th>koi_model_snr</th>\n",
              "      <th>koi_tce_plnt_num</th>\n",
              "      <th>koi_steff</th>\n",
              "      <th>koi_steff_err1</th>\n",
              "      <th>koi_steff_err2</th>\n",
              "      <th>koi_slogg</th>\n",
              "      <th>koi_slogg_err1</th>\n",
              "      <th>koi_slogg_err2</th>\n",
              "      <th>koi_srad</th>\n",
              "      <th>koi_srad_err1</th>\n",
              "      <th>koi_srad_err2</th>\n",
              "      <th>ra</th>\n",
              "      <th>dec</th>\n",
              "      <th>koi_kepmag</th>\n",
              "    </tr>\n",
              "  </thead>\n",
              "  <tbody>\n",
              "    <tr>\n",
              "      <th>0</th>\n",
              "      <td>CONFIRMED</td>\n",
              "      <td>0</td>\n",
              "      <td>0</td>\n",
              "      <td>0</td>\n",
              "      <td>0</td>\n",
              "      <td>9.488036</td>\n",
              "      <td>2.775000e-05</td>\n",
              "      <td>-2.775000e-05</td>\n",
              "      <td>170.538750</td>\n",
              "      <td>0.002160</td>\n",
              "      <td>-0.002160</td>\n",
              "      <td>0.146</td>\n",
              "      <td>0.318</td>\n",
              "      <td>-0.146</td>\n",
              "      <td>2.95750</td>\n",
              "      <td>0.08190</td>\n",
              "      <td>-0.08190</td>\n",
              "      <td>615.8</td>\n",
              "      <td>19.5</td>\n",
              "      <td>-19.5</td>\n",
              "      <td>2.26</td>\n",
              "      <td>0.26</td>\n",
              "      <td>-0.15</td>\n",
              "      <td>793.0</td>\n",
              "      <td>93.59</td>\n",
              "      <td>29.45</td>\n",
              "      <td>-16.65</td>\n",
              "      <td>35.8</td>\n",
              "      <td>1.0</td>\n",
              "      <td>5455.0</td>\n",
              "      <td>81.0</td>\n",
              "      <td>-81.0</td>\n",
              "      <td>4.467</td>\n",
              "      <td>0.064</td>\n",
              "      <td>-0.096</td>\n",
              "      <td>0.927</td>\n",
              "      <td>0.105</td>\n",
              "      <td>-0.061</td>\n",
              "      <td>291.93423</td>\n",
              "      <td>48.141651</td>\n",
              "      <td>15.347</td>\n",
              "    </tr>\n",
              "    <tr>\n",
              "      <th>1</th>\n",
              "      <td>CONFIRMED</td>\n",
              "      <td>0</td>\n",
              "      <td>0</td>\n",
              "      <td>0</td>\n",
              "      <td>0</td>\n",
              "      <td>54.418383</td>\n",
              "      <td>2.479000e-04</td>\n",
              "      <td>-2.479000e-04</td>\n",
              "      <td>162.513840</td>\n",
              "      <td>0.003520</td>\n",
              "      <td>-0.003520</td>\n",
              "      <td>0.586</td>\n",
              "      <td>0.059</td>\n",
              "      <td>-0.443</td>\n",
              "      <td>4.50700</td>\n",
              "      <td>0.11600</td>\n",
              "      <td>-0.11600</td>\n",
              "      <td>874.8</td>\n",
              "      <td>35.5</td>\n",
              "      <td>-35.5</td>\n",
              "      <td>2.83</td>\n",
              "      <td>0.32</td>\n",
              "      <td>-0.19</td>\n",
              "      <td>443.0</td>\n",
              "      <td>9.11</td>\n",
              "      <td>2.87</td>\n",
              "      <td>-1.62</td>\n",
              "      <td>25.8</td>\n",
              "      <td>2.0</td>\n",
              "      <td>5455.0</td>\n",
              "      <td>81.0</td>\n",
              "      <td>-81.0</td>\n",
              "      <td>4.467</td>\n",
              "      <td>0.064</td>\n",
              "      <td>-0.096</td>\n",
              "      <td>0.927</td>\n",
              "      <td>0.105</td>\n",
              "      <td>-0.061</td>\n",
              "      <td>291.93423</td>\n",
              "      <td>48.141651</td>\n",
              "      <td>15.347</td>\n",
              "    </tr>\n",
              "    <tr>\n",
              "      <th>2</th>\n",
              "      <td>FALSE POSITIVE</td>\n",
              "      <td>0</td>\n",
              "      <td>1</td>\n",
              "      <td>0</td>\n",
              "      <td>0</td>\n",
              "      <td>19.899140</td>\n",
              "      <td>1.494000e-05</td>\n",
              "      <td>-1.494000e-05</td>\n",
              "      <td>175.850252</td>\n",
              "      <td>0.000581</td>\n",
              "      <td>-0.000581</td>\n",
              "      <td>0.969</td>\n",
              "      <td>5.126</td>\n",
              "      <td>-0.077</td>\n",
              "      <td>1.78220</td>\n",
              "      <td>0.03410</td>\n",
              "      <td>-0.03410</td>\n",
              "      <td>10829.0</td>\n",
              "      <td>171.0</td>\n",
              "      <td>-171.0</td>\n",
              "      <td>14.60</td>\n",
              "      <td>3.92</td>\n",
              "      <td>-1.31</td>\n",
              "      <td>638.0</td>\n",
              "      <td>39.30</td>\n",
              "      <td>31.04</td>\n",
              "      <td>-10.49</td>\n",
              "      <td>76.3</td>\n",
              "      <td>1.0</td>\n",
              "      <td>5853.0</td>\n",
              "      <td>158.0</td>\n",
              "      <td>-176.0</td>\n",
              "      <td>4.544</td>\n",
              "      <td>0.044</td>\n",
              "      <td>-0.176</td>\n",
              "      <td>0.868</td>\n",
              "      <td>0.233</td>\n",
              "      <td>-0.078</td>\n",
              "      <td>297.00482</td>\n",
              "      <td>48.134129</td>\n",
              "      <td>15.436</td>\n",
              "    </tr>\n",
              "    <tr>\n",
              "      <th>3</th>\n",
              "      <td>FALSE POSITIVE</td>\n",
              "      <td>0</td>\n",
              "      <td>1</td>\n",
              "      <td>0</td>\n",
              "      <td>0</td>\n",
              "      <td>1.736952</td>\n",
              "      <td>2.630000e-07</td>\n",
              "      <td>-2.630000e-07</td>\n",
              "      <td>170.307565</td>\n",
              "      <td>0.000115</td>\n",
              "      <td>-0.000115</td>\n",
              "      <td>1.276</td>\n",
              "      <td>0.115</td>\n",
              "      <td>-0.092</td>\n",
              "      <td>2.40641</td>\n",
              "      <td>0.00537</td>\n",
              "      <td>-0.00537</td>\n",
              "      <td>8079.2</td>\n",
              "      <td>12.8</td>\n",
              "      <td>-12.8</td>\n",
              "      <td>33.46</td>\n",
              "      <td>8.50</td>\n",
              "      <td>-2.83</td>\n",
              "      <td>1395.0</td>\n",
              "      <td>891.96</td>\n",
              "      <td>668.95</td>\n",
              "      <td>-230.35</td>\n",
              "      <td>505.6</td>\n",
              "      <td>1.0</td>\n",
              "      <td>5805.0</td>\n",
              "      <td>157.0</td>\n",
              "      <td>-174.0</td>\n",
              "      <td>4.564</td>\n",
              "      <td>0.053</td>\n",
              "      <td>-0.168</td>\n",
              "      <td>0.791</td>\n",
              "      <td>0.201</td>\n",
              "      <td>-0.067</td>\n",
              "      <td>285.53461</td>\n",
              "      <td>48.285210</td>\n",
              "      <td>15.597</td>\n",
              "    </tr>\n",
              "    <tr>\n",
              "      <th>4</th>\n",
              "      <td>CONFIRMED</td>\n",
              "      <td>0</td>\n",
              "      <td>0</td>\n",
              "      <td>0</td>\n",
              "      <td>0</td>\n",
              "      <td>2.525592</td>\n",
              "      <td>3.761000e-06</td>\n",
              "      <td>-3.761000e-06</td>\n",
              "      <td>171.595550</td>\n",
              "      <td>0.001130</td>\n",
              "      <td>-0.001130</td>\n",
              "      <td>0.701</td>\n",
              "      <td>0.235</td>\n",
              "      <td>-0.478</td>\n",
              "      <td>1.65450</td>\n",
              "      <td>0.04200</td>\n",
              "      <td>-0.04200</td>\n",
              "      <td>603.3</td>\n",
              "      <td>16.9</td>\n",
              "      <td>-16.9</td>\n",
              "      <td>2.75</td>\n",
              "      <td>0.88</td>\n",
              "      <td>-0.35</td>\n",
              "      <td>1406.0</td>\n",
              "      <td>926.16</td>\n",
              "      <td>874.33</td>\n",
              "      <td>-314.24</td>\n",
              "      <td>40.9</td>\n",
              "      <td>1.0</td>\n",
              "      <td>6031.0</td>\n",
              "      <td>169.0</td>\n",
              "      <td>-211.0</td>\n",
              "      <td>4.438</td>\n",
              "      <td>0.070</td>\n",
              "      <td>-0.210</td>\n",
              "      <td>1.046</td>\n",
              "      <td>0.334</td>\n",
              "      <td>-0.133</td>\n",
              "      <td>288.75488</td>\n",
              "      <td>48.226200</td>\n",
              "      <td>15.509</td>\n",
              "    </tr>\n",
              "  </tbody>\n",
              "</table>\n",
              "</div>"
            ],
            "text/plain": [
              "  koi_disposition  koi_fpflag_nt  ...        dec  koi_kepmag\n",
              "0       CONFIRMED              0  ...  48.141651      15.347\n",
              "1       CONFIRMED              0  ...  48.141651      15.347\n",
              "2  FALSE POSITIVE              0  ...  48.134129      15.436\n",
              "3  FALSE POSITIVE              0  ...  48.285210      15.597\n",
              "4       CONFIRMED              0  ...  48.226200      15.509\n",
              "\n",
              "[5 rows x 41 columns]"
            ]
          },
          "metadata": {
            "tags": []
          },
          "execution_count": 3
        }
      ]
    },
    {
      "cell_type": "markdown",
      "metadata": {
        "id": "TogGHNQdbnsL",
        "colab_type": "text"
      },
      "source": [
        "# Create a Train Test Split\n",
        "\n",
        "Use `koi_disposition` for the y values"
      ]
    },
    {
      "cell_type": "code",
      "metadata": {
        "id": "7PPIWsB9bnsN",
        "colab_type": "code",
        "colab": {}
      },
      "source": [
        "y = df[\"koi_disposition\"]"
      ],
      "execution_count": 0,
      "outputs": []
    },
    {
      "cell_type": "code",
      "metadata": {
        "id": "hvHVBa6feca6",
        "colab_type": "code",
        "outputId": "1b59de78-b5f0-4833-ec74-1c75f3d55859",
        "colab": {
          "base_uri": "https://localhost:8080/",
          "height": 36
        }
      },
      "source": [
        "y.shape"
      ],
      "execution_count": 5,
      "outputs": [
        {
          "output_type": "execute_result",
          "data": {
            "text/plain": [
              "(8744,)"
            ]
          },
          "metadata": {
            "tags": []
          },
          "execution_count": 5
        }
      ]
    },
    {
      "cell_type": "code",
      "metadata": {
        "id": "lO9MTLmRyUz5",
        "colab_type": "code",
        "colab": {}
      },
      "source": [
        "y_targets = y.unique()"
      ],
      "execution_count": 0,
      "outputs": []
    },
    {
      "cell_type": "code",
      "metadata": {
        "id": "dTPp74w_bnsT",
        "colab_type": "code",
        "colab": {}
      },
      "source": [
        "X = df.drop(columns=\"koi_disposition\")"
      ],
      "execution_count": 0,
      "outputs": []
    },
    {
      "cell_type": "code",
      "metadata": {
        "id": "Tqab6t7dbnsn",
        "colab_type": "code",
        "colab": {}
      },
      "source": [
        "X_train, X_test, y_train, y_test = train_test_split(X, y, random_state=42)"
      ],
      "execution_count": 0,
      "outputs": []
    },
    {
      "cell_type": "code",
      "metadata": {
        "id": "7HdZ54tYbnst",
        "colab_type": "code",
        "outputId": "6aeae4d5-7d6a-4d38-cd14-94a6a58f134d",
        "colab": {
          "base_uri": "https://localhost:8080/",
          "height": 226
        }
      },
      "source": [
        "X_train.head()"
      ],
      "execution_count": 9,
      "outputs": [
        {
          "output_type": "execute_result",
          "data": {
            "text/html": [
              "<div>\n",
              "<style scoped>\n",
              "    .dataframe tbody tr th:only-of-type {\n",
              "        vertical-align: middle;\n",
              "    }\n",
              "\n",
              "    .dataframe tbody tr th {\n",
              "        vertical-align: top;\n",
              "    }\n",
              "\n",
              "    .dataframe thead th {\n",
              "        text-align: right;\n",
              "    }\n",
              "</style>\n",
              "<table border=\"1\" class=\"dataframe\">\n",
              "  <thead>\n",
              "    <tr style=\"text-align: right;\">\n",
              "      <th></th>\n",
              "      <th>koi_fpflag_nt</th>\n",
              "      <th>koi_fpflag_ss</th>\n",
              "      <th>koi_fpflag_co</th>\n",
              "      <th>koi_fpflag_ec</th>\n",
              "      <th>koi_period</th>\n",
              "      <th>koi_period_err1</th>\n",
              "      <th>koi_period_err2</th>\n",
              "      <th>koi_time0bk</th>\n",
              "      <th>koi_time0bk_err1</th>\n",
              "      <th>koi_time0bk_err2</th>\n",
              "      <th>koi_impact</th>\n",
              "      <th>koi_impact_err1</th>\n",
              "      <th>koi_impact_err2</th>\n",
              "      <th>koi_duration</th>\n",
              "      <th>koi_duration_err1</th>\n",
              "      <th>koi_duration_err2</th>\n",
              "      <th>koi_depth</th>\n",
              "      <th>koi_depth_err1</th>\n",
              "      <th>koi_depth_err2</th>\n",
              "      <th>koi_prad</th>\n",
              "      <th>koi_prad_err1</th>\n",
              "      <th>koi_prad_err2</th>\n",
              "      <th>koi_teq</th>\n",
              "      <th>koi_insol</th>\n",
              "      <th>koi_insol_err1</th>\n",
              "      <th>koi_insol_err2</th>\n",
              "      <th>koi_model_snr</th>\n",
              "      <th>koi_tce_plnt_num</th>\n",
              "      <th>koi_steff</th>\n",
              "      <th>koi_steff_err1</th>\n",
              "      <th>koi_steff_err2</th>\n",
              "      <th>koi_slogg</th>\n",
              "      <th>koi_slogg_err1</th>\n",
              "      <th>koi_slogg_err2</th>\n",
              "      <th>koi_srad</th>\n",
              "      <th>koi_srad_err1</th>\n",
              "      <th>koi_srad_err2</th>\n",
              "      <th>ra</th>\n",
              "      <th>dec</th>\n",
              "      <th>koi_kepmag</th>\n",
              "    </tr>\n",
              "  </thead>\n",
              "  <tbody>\n",
              "    <tr>\n",
              "      <th>8017</th>\n",
              "      <td>0</td>\n",
              "      <td>1</td>\n",
              "      <td>1</td>\n",
              "      <td>0</td>\n",
              "      <td>0.806277</td>\n",
              "      <td>4.947000e-06</td>\n",
              "      <td>-4.947000e-06</td>\n",
              "      <td>131.785670</td>\n",
              "      <td>0.006720</td>\n",
              "      <td>-0.006720</td>\n",
              "      <td>0.697</td>\n",
              "      <td>0.260</td>\n",
              "      <td>-0.451</td>\n",
              "      <td>7.27500</td>\n",
              "      <td>0.31200</td>\n",
              "      <td>-0.31200</td>\n",
              "      <td>70.8</td>\n",
              "      <td>3.8</td>\n",
              "      <td>-3.8</td>\n",
              "      <td>0.89</td>\n",
              "      <td>0.29</td>\n",
              "      <td>-0.09</td>\n",
              "      <td>2046.0</td>\n",
              "      <td>4119.09</td>\n",
              "      <td>3927.86</td>\n",
              "      <td>-1221.11</td>\n",
              "      <td>37.9</td>\n",
              "      <td>1.0</td>\n",
              "      <td>6122.0</td>\n",
              "      <td>165.0</td>\n",
              "      <td>-184.0</td>\n",
              "      <td>4.471</td>\n",
              "      <td>0.054</td>\n",
              "      <td>-0.229</td>\n",
              "      <td>0.996</td>\n",
              "      <td>0.324</td>\n",
              "      <td>-0.108</td>\n",
              "      <td>290.81723</td>\n",
              "      <td>38.539120</td>\n",
              "      <td>13.614</td>\n",
              "    </tr>\n",
              "    <tr>\n",
              "      <th>1233</th>\n",
              "      <td>0</td>\n",
              "      <td>1</td>\n",
              "      <td>1</td>\n",
              "      <td>0</td>\n",
              "      <td>3.582077</td>\n",
              "      <td>4.318000e-06</td>\n",
              "      <td>-4.318000e-06</td>\n",
              "      <td>355.515064</td>\n",
              "      <td>0.000864</td>\n",
              "      <td>-0.000864</td>\n",
              "      <td>0.966</td>\n",
              "      <td>0.011</td>\n",
              "      <td>-0.008</td>\n",
              "      <td>4.42280</td>\n",
              "      <td>0.06360</td>\n",
              "      <td>-0.06360</td>\n",
              "      <td>1534.4</td>\n",
              "      <td>17.7</td>\n",
              "      <td>-17.7</td>\n",
              "      <td>5.33</td>\n",
              "      <td>1.52</td>\n",
              "      <td>-0.70</td>\n",
              "      <td>1265.0</td>\n",
              "      <td>604.27</td>\n",
              "      <td>524.99</td>\n",
              "      <td>-215.04</td>\n",
              "      <td>138.4</td>\n",
              "      <td>1.0</td>\n",
              "      <td>6109.0</td>\n",
              "      <td>192.0</td>\n",
              "      <td>-235.0</td>\n",
              "      <td>4.422</td>\n",
              "      <td>0.090</td>\n",
              "      <td>-0.195</td>\n",
              "      <td>0.993</td>\n",
              "      <td>0.283</td>\n",
              "      <td>-0.131</td>\n",
              "      <td>296.07822</td>\n",
              "      <td>43.136940</td>\n",
              "      <td>15.193</td>\n",
              "    </tr>\n",
              "    <tr>\n",
              "      <th>2592</th>\n",
              "      <td>0</td>\n",
              "      <td>0</td>\n",
              "      <td>0</td>\n",
              "      <td>0</td>\n",
              "      <td>5.060923</td>\n",
              "      <td>2.616000e-05</td>\n",
              "      <td>-2.616000e-05</td>\n",
              "      <td>134.473160</td>\n",
              "      <td>0.004730</td>\n",
              "      <td>-0.004730</td>\n",
              "      <td>0.944</td>\n",
              "      <td>0.006</td>\n",
              "      <td>-0.643</td>\n",
              "      <td>2.58600</td>\n",
              "      <td>0.11400</td>\n",
              "      <td>-0.11400</td>\n",
              "      <td>71.6</td>\n",
              "      <td>5.3</td>\n",
              "      <td>-5.3</td>\n",
              "      <td>0.98</td>\n",
              "      <td>0.13</td>\n",
              "      <td>-0.06</td>\n",
              "      <td>998.0</td>\n",
              "      <td>234.93</td>\n",
              "      <td>88.75</td>\n",
              "      <td>-45.74</td>\n",
              "      <td>15.7</td>\n",
              "      <td>1.0</td>\n",
              "      <td>5637.0</td>\n",
              "      <td>101.0</td>\n",
              "      <td>-112.0</td>\n",
              "      <td>4.492</td>\n",
              "      <td>0.048</td>\n",
              "      <td>-0.112</td>\n",
              "      <td>0.911</td>\n",
              "      <td>0.121</td>\n",
              "      <td>-0.060</td>\n",
              "      <td>289.91742</td>\n",
              "      <td>40.828606</td>\n",
              "      <td>13.346</td>\n",
              "    </tr>\n",
              "    <tr>\n",
              "      <th>4770</th>\n",
              "      <td>0</td>\n",
              "      <td>1</td>\n",
              "      <td>0</td>\n",
              "      <td>1</td>\n",
              "      <td>8.480304</td>\n",
              "      <td>3.320000e-07</td>\n",
              "      <td>-3.320000e-07</td>\n",
              "      <td>135.854534</td>\n",
              "      <td>0.000031</td>\n",
              "      <td>-0.000031</td>\n",
              "      <td>0.235</td>\n",
              "      <td>0.003</td>\n",
              "      <td>-0.003</td>\n",
              "      <td>7.46159</td>\n",
              "      <td>0.00234</td>\n",
              "      <td>-0.00234</td>\n",
              "      <td>83115.0</td>\n",
              "      <td>18.9</td>\n",
              "      <td>-18.9</td>\n",
              "      <td>65.00</td>\n",
              "      <td>11.03</td>\n",
              "      <td>-16.56</td>\n",
              "      <td>1504.0</td>\n",
              "      <td>1210.22</td>\n",
              "      <td>566.98</td>\n",
              "      <td>-600.16</td>\n",
              "      <td>5219.5</td>\n",
              "      <td>1.0</td>\n",
              "      <td>7059.0</td>\n",
              "      <td>126.0</td>\n",
              "      <td>-169.0</td>\n",
              "      <td>3.946</td>\n",
              "      <td>0.195</td>\n",
              "      <td>-0.105</td>\n",
              "      <td>2.210</td>\n",
              "      <td>0.375</td>\n",
              "      <td>-0.563</td>\n",
              "      <td>298.80020</td>\n",
              "      <td>46.665539</td>\n",
              "      <td>7.631</td>\n",
              "    </tr>\n",
              "    <tr>\n",
              "      <th>6632</th>\n",
              "      <td>0</td>\n",
              "      <td>0</td>\n",
              "      <td>0</td>\n",
              "      <td>1</td>\n",
              "      <td>4.994716</td>\n",
              "      <td>4.495000e-05</td>\n",
              "      <td>-4.495000e-05</td>\n",
              "      <td>136.183300</td>\n",
              "      <td>0.009500</td>\n",
              "      <td>-0.009500</td>\n",
              "      <td>0.698</td>\n",
              "      <td>0.277</td>\n",
              "      <td>-0.462</td>\n",
              "      <td>3.44000</td>\n",
              "      <td>0.25700</td>\n",
              "      <td>-0.25700</td>\n",
              "      <td>53.0</td>\n",
              "      <td>4.6</td>\n",
              "      <td>-4.6</td>\n",
              "      <td>2.20</td>\n",
              "      <td>0.35</td>\n",
              "      <td>-0.83</td>\n",
              "      <td>1861.0</td>\n",
              "      <td>2836.06</td>\n",
              "      <td>1425.22</td>\n",
              "      <td>-1863.86</td>\n",
              "      <td>14.1</td>\n",
              "      <td>1.0</td>\n",
              "      <td>6409.0</td>\n",
              "      <td>174.0</td>\n",
              "      <td>-194.0</td>\n",
              "      <td>3.706</td>\n",
              "      <td>0.320</td>\n",
              "      <td>-0.080</td>\n",
              "      <td>2.830</td>\n",
              "      <td>0.458</td>\n",
              "      <td>-1.068</td>\n",
              "      <td>282.58215</td>\n",
              "      <td>46.815510</td>\n",
              "      <td>13.352</td>\n",
              "    </tr>\n",
              "  </tbody>\n",
              "</table>\n",
              "</div>"
            ],
            "text/plain": [
              "      koi_fpflag_nt  koi_fpflag_ss  ...        dec  koi_kepmag\n",
              "8017              0              1  ...  38.539120      13.614\n",
              "1233              0              1  ...  43.136940      15.193\n",
              "2592              0              0  ...  40.828606      13.346\n",
              "4770              0              1  ...  46.665539       7.631\n",
              "6632              0              0  ...  46.815510      13.352\n",
              "\n",
              "[5 rows x 40 columns]"
            ]
          },
          "metadata": {
            "tags": []
          },
          "execution_count": 9
        }
      ]
    },
    {
      "cell_type": "code",
      "metadata": {
        "id": "xFd6TkdYofH2",
        "colab_type": "code",
        "colab": {}
      },
      "source": [
        "X_features = X.columns"
      ],
      "execution_count": 0,
      "outputs": []
    },
    {
      "cell_type": "code",
      "metadata": {
        "id": "5asd6lEOcK80",
        "colab_type": "code",
        "colab": {
          "base_uri": "https://localhost:8080/",
          "height": 36
        },
        "outputId": "6e4c0dce-dee7-4a82-a216-11c93c9d4290"
      },
      "source": [
        "y.shape"
      ],
      "execution_count": 11,
      "outputs": [
        {
          "output_type": "execute_result",
          "data": {
            "text/plain": [
              "(8744,)"
            ]
          },
          "metadata": {
            "tags": []
          },
          "execution_count": 11
        }
      ]
    },
    {
      "cell_type": "markdown",
      "metadata": {
        "id": "ylefIqjlbntF",
        "colab_type": "text"
      },
      "source": [
        "# Pre-processing\n",
        "\n",
        "Scale the data using the MinMaxScaler"
      ]
    },
    {
      "cell_type": "code",
      "metadata": {
        "id": "uHYazM37bntH",
        "colab_type": "code",
        "colab": {}
      },
      "source": [
        "X_minmax = MinMaxScaler().fit(X_train)\n",
        "\n",
        "X_train = X_minmax.transform(X_train)\n",
        "X_test = X_minmax.transform(X_test)\n"
      ],
      "execution_count": 0,
      "outputs": []
    },
    {
      "cell_type": "markdown",
      "metadata": {
        "id": "MIM7yGfdbntP",
        "colab_type": "text"
      },
      "source": [
        "# Train the Support Vector Machine"
      ]
    },
    {
      "cell_type": "code",
      "metadata": {
        "id": "kjagTRxKbntQ",
        "colab_type": "code",
        "outputId": "25f985dd-29e5-41b3-ac4a-7a0eca8e6294",
        "colab": {
          "base_uri": "https://localhost:8080/",
          "height": 92
        }
      },
      "source": [
        "from sklearn.svm import SVC\n",
        "model = SVC(kernel='linear')\n",
        "model.fit(X_train, y_train)"
      ],
      "execution_count": 13,
      "outputs": [
        {
          "output_type": "execute_result",
          "data": {
            "text/plain": [
              "SVC(C=1.0, cache_size=200, class_weight=None, coef0=0.0,\n",
              "    decision_function_shape='ovr', degree=3, gamma='auto_deprecated',\n",
              "    kernel='linear', max_iter=-1, probability=False, random_state=None,\n",
              "    shrinking=True, tol=0.001, verbose=False)"
            ]
          },
          "metadata": {
            "tags": []
          },
          "execution_count": 13
        }
      ]
    },
    {
      "cell_type": "code",
      "metadata": {
        "id": "1_Fp4CvVbntV",
        "colab_type": "code",
        "outputId": "a723c3cc-f64d-4813-b26a-8505e00c64ce",
        "colab": {
          "base_uri": "https://localhost:8080/",
          "height": 55
        }
      },
      "source": [
        "print(f\"Training Data Score: {model.score(X_train, y_train)}\")\n",
        "print(f\"Testing Data Score: {model.score(X_test, y_test)}\")"
      ],
      "execution_count": 14,
      "outputs": [
        {
          "output_type": "stream",
          "text": [
            "Training Data Score: 0.8502592253735896\n",
            "Testing Data Score: 0.838975297346752\n"
          ],
          "name": "stdout"
        }
      ]
    },
    {
      "cell_type": "code",
      "metadata": {
        "id": "p3cXblqvMquy",
        "colab_type": "code",
        "colab": {}
      },
      "source": [
        ""
      ],
      "execution_count": 0,
      "outputs": []
    },
    {
      "cell_type": "code",
      "metadata": {
        "id": "4_xmO2dtPd3G",
        "colab_type": "code",
        "outputId": "c6e59a35-2ad7-46c4-aa25-53fccd6a50bd",
        "colab": {
          "base_uri": "https://localhost:8080/",
          "height": 205
        }
      },
      "source": [
        "# from sklearn.metrics import classification_report\n",
        "predictions = model.predict(X_test)\n",
        "print(classification_report(y_test, predictions))"
      ],
      "execution_count": 16,
      "outputs": [
        {
          "output_type": "stream",
          "text": [
            "                precision    recall  f1-score   support\n",
            "\n",
            "     CANDIDATE       0.73      0.56      0.63       523\n",
            "     CONFIRMED       0.68      0.80      0.73       594\n",
            "FALSE POSITIVE       0.98      1.00      0.99      1069\n",
            "\n",
            "      accuracy                           0.84      2186\n",
            "     macro avg       0.80      0.78      0.79      2186\n",
            "  weighted avg       0.84      0.84      0.83      2186\n",
            "\n"
          ],
          "name": "stdout"
        }
      ]
    },
    {
      "cell_type": "markdown",
      "metadata": {
        "id": "S4iSHNjsbntY",
        "colab_type": "text"
      },
      "source": [
        "# Hyperparameter Tuning\n",
        "\n",
        "Use `GridSearchCV` to tune the `C` and `gamma` parameters"
      ]
    },
    {
      "cell_type": "code",
      "metadata": {
        "id": "2WY9cWlyfSoD",
        "colab_type": "code",
        "outputId": "f81fc068-6e3b-4a82-89d6-2557f63f762b",
        "colab": {
          "base_uri": "https://localhost:8080/",
          "height": 92
        }
      },
      "source": [
        "model"
      ],
      "execution_count": 17,
      "outputs": [
        {
          "output_type": "execute_result",
          "data": {
            "text/plain": [
              "SVC(C=1.0, cache_size=200, class_weight=None, coef0=0.0,\n",
              "    decision_function_shape='ovr', degree=3, gamma='auto_deprecated',\n",
              "    kernel='linear', max_iter=-1, probability=False, random_state=None,\n",
              "    shrinking=True, tol=0.001, verbose=False)"
            ]
          },
          "metadata": {
            "tags": []
          },
          "execution_count": 17
        }
      ]
    },
    {
      "cell_type": "code",
      "metadata": {
        "id": "NAYyHsiDbntc",
        "colab_type": "code",
        "colab": {}
      },
      "source": [
        "# Create the GridSearchCV model\n",
        "# from sklearn.model_selection import GridSearchCV\n",
        "param_grid = {'C': [1, 5, 10, 50],\n",
        "              'gamma': [0.0001, 0.0005, 0.001, 0.005]}\n",
        "grid = GridSearchCV(model, param_grid, verbose=3)"
      ],
      "execution_count": 0,
      "outputs": []
    },
    {
      "cell_type": "code",
      "metadata": {
        "id": "BqycYDzRbntf",
        "colab_type": "code",
        "colab": {}
      },
      "source": [
        "# Train the model with GridSearch\n",
        "grid.fit(X_train, y_train)"
      ],
      "execution_count": 0,
      "outputs": []
    },
    {
      "cell_type": "code",
      "metadata": {
        "id": "x71hxUOUbntk",
        "colab_type": "code",
        "outputId": "e4969725-cdbf-44a8-c172-b1a85177f6ea",
        "colab": {
          "base_uri": "https://localhost:8080/",
          "height": 55
        }
      },
      "source": [
        "print(grid.best_params_)\n",
        "print(grid.best_score_)"
      ],
      "execution_count": 34,
      "outputs": [
        {
          "output_type": "stream",
          "text": [
            "{'C': 50, 'gamma': 0.0001}\n",
            "0.8824336688014639\n"
          ],
          "name": "stdout"
        }
      ]
    },
    {
      "cell_type": "code",
      "metadata": {
        "id": "aOZYQV2IbLo_",
        "colab_type": "code",
        "colab": {
          "base_uri": "https://localhost:8080/",
          "height": 92
        },
        "outputId": "33a708b3-3c25-4435-b4f0-f2e105fa7150"
      },
      "source": [
        "# classifier = LogisticRegression(C=50, penalty='l1')\n",
        "\n",
        "model = SVC(kernel='linear', C=50, gamma=0.0001)\n",
        "model"
      ],
      "execution_count": 19,
      "outputs": [
        {
          "output_type": "execute_result",
          "data": {
            "text/plain": [
              "SVC(C=50, cache_size=200, class_weight=None, coef0=0.0,\n",
              "    decision_function_shape='ovr', degree=3, gamma=0.0001, kernel='linear',\n",
              "    max_iter=-1, probability=False, random_state=None, shrinking=True,\n",
              "    tol=0.001, verbose=False)"
            ]
          },
          "metadata": {
            "tags": []
          },
          "execution_count": 19
        }
      ]
    },
    {
      "cell_type": "code",
      "metadata": {
        "id": "-dIS079Pcj5Q",
        "colab_type": "code",
        "colab": {
          "base_uri": "https://localhost:8080/",
          "height": 92
        },
        "outputId": "d4a53b9d-bf9c-42cf-d47f-72b849db4fd8"
      },
      "source": [
        "model.fit(X_train, y_train)"
      ],
      "execution_count": 21,
      "outputs": [
        {
          "output_type": "execute_result",
          "data": {
            "text/plain": [
              "SVC(C=50, cache_size=200, class_weight=None, coef0=0.0,\n",
              "    decision_function_shape='ovr', degree=3, gamma=0.0001, kernel='linear',\n",
              "    max_iter=-1, probability=False, random_state=None, shrinking=True,\n",
              "    tol=0.001, verbose=False)"
            ]
          },
          "metadata": {
            "tags": []
          },
          "execution_count": 21
        }
      ]
    },
    {
      "cell_type": "code",
      "metadata": {
        "id": "qXenAzSuc3ta",
        "colab_type": "code",
        "colab": {
          "base_uri": "https://localhost:8080/",
          "height": 55
        },
        "outputId": "9639758c-4090-4c58-9cf0-ff0ae63c2357"
      },
      "source": [
        "print(f\"Training Data Score: {model.score(X_train, y_train)}\")\n",
        "print(f\"Testing Data Score: {model.score(X_test, y_test)}\")"
      ],
      "execution_count": 22,
      "outputs": [
        {
          "output_type": "stream",
          "text": [
            "Training Data Score: 0.8877706617871303\n",
            "Testing Data Score: 0.8810612991765783\n"
          ],
          "name": "stdout"
        }
      ]
    },
    {
      "cell_type": "code",
      "metadata": {
        "id": "xhBHJ4wme-dw",
        "colab_type": "code",
        "colab": {
          "base_uri": "https://localhost:8080/",
          "height": 205
        },
        "outputId": "cfe183ad-cbc2-4ab9-f05f-6ebdef207cfb"
      },
      "source": [
        "# from sklearn.metrics import classification_report\n",
        "predictions = model.predict(X_test)\n",
        "print(classification_report(y_test, predictions))"
      ],
      "execution_count": 23,
      "outputs": [
        {
          "output_type": "stream",
          "text": [
            "                precision    recall  f1-score   support\n",
            "\n",
            "     CANDIDATE       0.85      0.65      0.73       523\n",
            "     CONFIRMED       0.75      0.87      0.81       594\n",
            "FALSE POSITIVE       0.98      1.00      0.99      1069\n",
            "\n",
            "      accuracy                           0.88      2186\n",
            "     macro avg       0.86      0.84      0.84      2186\n",
            "  weighted avg       0.88      0.88      0.88      2186\n",
            "\n"
          ],
          "name": "stdout"
        }
      ]
    },
    {
      "cell_type": "markdown",
      "metadata": {
        "id": "dp6TxvFIgh0r",
        "colab_type": "text"
      },
      "source": [
        "# Random Forst Classifier\n"
      ]
    },
    {
      "cell_type": "code",
      "metadata": {
        "id": "rQmC0e28fzx-",
        "colab_type": "code",
        "outputId": "906d0913-cd45-48d6-dbc3-328e7ebc5648",
        "colab": {
          "base_uri": "https://localhost:8080/",
          "height": 36
        }
      },
      "source": [
        "# from sklearn.ensemble import RandomForestClassifier\n",
        "# Create a random forest classifier\n",
        "rf = RandomForestClassifier(n_estimators=200)\n",
        "rf = rf.fit(X_train, y_train)\n",
        "rf.score(X_test, y_test)\n",
        "# predictions = rf.predict(X_test)"
      ],
      "execution_count": 35,
      "outputs": [
        {
          "output_type": "execute_result",
          "data": {
            "text/plain": [
              "0.8952424519670631"
            ]
          },
          "metadata": {
            "tags": []
          },
          "execution_count": 35
        }
      ]
    },
    {
      "cell_type": "code",
      "metadata": {
        "id": "3PTJNyECnnl5",
        "colab_type": "code",
        "colab": {}
      },
      "source": [
        "importances = rf.feature_importances_\n",
        "# importances"
      ],
      "execution_count": 0,
      "outputs": []
    },
    {
      "cell_type": "code",
      "metadata": {
        "id": "UVg32ADqoSyS",
        "colab_type": "code",
        "colab": {
          "base_uri": "https://localhost:8080/",
          "height": 768
        },
        "outputId": "e3b2b82c-79c7-48aa-98a7-53843c30bf39"
      },
      "source": [
        "sorted(zip(rf.feature_importances_, X_features), reverse=True)"
      ],
      "execution_count": 37,
      "outputs": [
        {
          "output_type": "execute_result",
          "data": {
            "text/plain": [
              "[(0.10994198467579953, 'koi_fpflag_co'),\n",
              " (0.09618727406272261, 'koi_fpflag_nt'),\n",
              " (0.06747660530396, 'koi_fpflag_ss'),\n",
              " (0.05713551890118187, 'koi_model_snr'),\n",
              " (0.048895872633851624, 'koi_prad'),\n",
              " (0.036701711747002964, 'koi_fpflag_ec'),\n",
              " (0.03400737355251167, 'koi_prad_err2'),\n",
              " (0.031670782114020045, 'koi_duration_err2'),\n",
              " (0.0313778323334402, 'koi_steff_err2'),\n",
              " (0.03097501244184158, 'koi_duration_err1'),\n",
              " (0.029890169403237774, 'koi_prad_err1'),\n",
              " (0.027255960270498425, 'koi_steff_err1'),\n",
              " (0.025780488303201954, 'koi_time0bk_err1'),\n",
              " (0.024921558092052914, 'koi_duration'),\n",
              " (0.022835501541166984, 'koi_period'),\n",
              " (0.020985071271275097, 'koi_time0bk_err2'),\n",
              " (0.020420492230208007, 'koi_period_err2'),\n",
              " (0.019489607254098002, 'koi_depth'),\n",
              " (0.01844621295902018, 'koi_impact'),\n",
              " (0.018356690666946323, 'koi_period_err1'),\n",
              " (0.016949268836040088, 'koi_insol_err1'),\n",
              " (0.016835789643797873, 'koi_teq'),\n",
              " (0.014854160907590461, 'koi_depth_err1'),\n",
              " (0.014428234960682181, 'koi_time0bk'),\n",
              " (0.013082894747322877, 'ra'),\n",
              " (0.013042032946612511, 'koi_insol'),\n",
              " (0.012448024215627925, 'koi_depth_err2'),\n",
              " (0.012184741459631452, 'koi_insol_err2'),\n",
              " (0.012039250022397578, 'koi_srad_err1'),\n",
              " (0.010997588968497047, 'koi_kepmag'),\n",
              " (0.01096621652186424, 'dec'),\n",
              " (0.01080607726577951, 'koi_impact_err1'),\n",
              " (0.010495027457667578, 'koi_slogg_err2'),\n",
              " (0.010324700031838767, 'koi_impact_err2'),\n",
              " (0.009263298906521436, 'koi_steff'),\n",
              " (0.009216740937536447, 'koi_srad'),\n",
              " (0.008997004976852465, 'koi_slogg'),\n",
              " (0.008751667314888318, 'koi_slogg_err1'),\n",
              " (0.008474564821578877, 'koi_srad_err2'),\n",
              " (0.0030909952992346783, 'koi_tce_plnt_num')]"
            ]
          },
          "metadata": {
            "tags": []
          },
          "execution_count": 37
        }
      ]
    },
    {
      "cell_type": "code",
      "metadata": {
        "id": "22ttAAu_o8h_",
        "colab_type": "code",
        "outputId": "1a8c7341-730a-4d68-8ff6-a1c4ea1bc733",
        "colab": {
          "base_uri": "https://localhost:8080/",
          "height": 205
        }
      },
      "source": [
        "print(classification_report(y_test, predictions))"
      ],
      "execution_count": 38,
      "outputs": [
        {
          "output_type": "stream",
          "text": [
            "                precision    recall  f1-score   support\n",
            "\n",
            "     CANDIDATE       0.73      0.56      0.63       523\n",
            "     CONFIRMED       0.68      0.80      0.73       594\n",
            "FALSE POSITIVE       0.98      1.00      0.99      1069\n",
            "\n",
            "      accuracy                           0.84      2186\n",
            "     macro avg       0.80      0.78      0.79      2186\n",
            "  weighted avg       0.84      0.84      0.83      2186\n",
            "\n"
          ],
          "name": "stdout"
        }
      ]
    },
    {
      "cell_type": "markdown",
      "metadata": {
        "id": "kbYCZzthgveM",
        "colab_type": "text"
      },
      "source": [
        "# Tune Random Forest Classifier\n"
      ]
    },
    {
      "cell_type": "code",
      "metadata": {
        "id": "1w3cDNeGyhzb",
        "colab_type": "code",
        "outputId": "04c4689d-f5a6-4f5b-fa99-34c2a8aa43c9",
        "colab": {
          "base_uri": "https://localhost:8080/",
          "height": 36
        }
      },
      "source": [
        "from sklearn.ensemble import RandomForestClassifier\n",
        "\n",
        "\n",
        "rf = RandomForestClassifier(n_estimators=1000)\n",
        "rf = rf.fit(X_train, y_train)\n",
        "rf.score(X_test, y_test)"
      ],
      "execution_count": 39,
      "outputs": [
        {
          "output_type": "execute_result",
          "data": {
            "text/plain": [
              "0.8947849954254345"
            ]
          },
          "metadata": {
            "tags": []
          },
          "execution_count": 39
        }
      ]
    },
    {
      "cell_type": "markdown",
      "metadata": {
        "id": "MzGlJo71jdiT",
        "colab_type": "text"
      },
      "source": [
        "# Logistic Regression Model\n",
        "\n"
      ]
    },
    {
      "cell_type": "code",
      "metadata": {
        "id": "8-CX4DBofzeE",
        "colab_type": "code",
        "outputId": "ce2428c0-2f60-4afb-f592-4a28af252181",
        "colab": {
          "base_uri": "https://localhost:8080/",
          "height": 111
        }
      },
      "source": [
        "from sklearn.linear_model import LogisticRegression\n",
        "classifier = LogisticRegression()\n",
        "classifier"
      ],
      "execution_count": 40,
      "outputs": [
        {
          "output_type": "execute_result",
          "data": {
            "text/plain": [
              "LogisticRegression(C=1.0, class_weight=None, dual=False, fit_intercept=True,\n",
              "                   intercept_scaling=1, l1_ratio=None, max_iter=100,\n",
              "                   multi_class='warn', n_jobs=None, penalty='l2',\n",
              "                   random_state=None, solver='warn', tol=0.0001, verbose=0,\n",
              "                   warm_start=False)"
            ]
          },
          "metadata": {
            "tags": []
          },
          "execution_count": 40
        }
      ]
    },
    {
      "cell_type": "code",
      "metadata": {
        "id": "DG0ZJ8SVjwm8",
        "colab_type": "code",
        "outputId": "ec929d52-be9c-4c05-8e1c-e9c950178cdc",
        "colab": {
          "base_uri": "https://localhost:8080/",
          "height": 206
        }
      },
      "source": [
        "classifier.fit(X_train, y_train)"
      ],
      "execution_count": 41,
      "outputs": [
        {
          "output_type": "stream",
          "text": [
            "/usr/local/lib/python3.6/dist-packages/sklearn/linear_model/logistic.py:432: FutureWarning: Default solver will be changed to 'lbfgs' in 0.22. Specify a solver to silence this warning.\n",
            "  FutureWarning)\n",
            "/usr/local/lib/python3.6/dist-packages/sklearn/linear_model/logistic.py:469: FutureWarning: Default multi_class will be changed to 'auto' in 0.22. Specify the multi_class option to silence this warning.\n",
            "  \"this warning.\", FutureWarning)\n"
          ],
          "name": "stderr"
        },
        {
          "output_type": "execute_result",
          "data": {
            "text/plain": [
              "LogisticRegression(C=1.0, class_weight=None, dual=False, fit_intercept=True,\n",
              "                   intercept_scaling=1, l1_ratio=None, max_iter=100,\n",
              "                   multi_class='warn', n_jobs=None, penalty='l2',\n",
              "                   random_state=None, solver='warn', tol=0.0001, verbose=0,\n",
              "                   warm_start=False)"
            ]
          },
          "metadata": {
            "tags": []
          },
          "execution_count": 41
        }
      ]
    },
    {
      "cell_type": "code",
      "metadata": {
        "id": "zuBIhyiWj2yw",
        "colab_type": "code",
        "colab": {}
      },
      "source": [
        "predictions = classifier.predict(X_test)"
      ],
      "execution_count": 0,
      "outputs": []
    },
    {
      "cell_type": "code",
      "metadata": {
        "id": "IruXTohRkBBd",
        "colab_type": "code",
        "outputId": "728809e2-37b1-4010-f65f-e6fcb6f2b702",
        "colab": {
          "base_uri": "https://localhost:8080/",
          "height": 36
        }
      },
      "source": [
        "classifier.score(X_test, y_test)"
      ],
      "execution_count": 43,
      "outputs": [
        {
          "output_type": "execute_result",
          "data": {
            "text/plain": [
              "0.833028362305581"
            ]
          },
          "metadata": {
            "tags": []
          },
          "execution_count": 43
        }
      ]
    },
    {
      "cell_type": "code",
      "metadata": {
        "id": "lpGjf-zFkHBC",
        "colab_type": "code",
        "outputId": "7e77ad9e-6cf6-442c-d3b1-b056d22ceb6e",
        "colab": {
          "base_uri": "https://localhost:8080/",
          "height": 205
        }
      },
      "source": [
        "print(classification_report(y_test, predictions))\n"
      ],
      "execution_count": 44,
      "outputs": [
        {
          "output_type": "stream",
          "text": [
            "                precision    recall  f1-score   support\n",
            "\n",
            "     CANDIDATE       0.70      0.58      0.63       523\n",
            "     CONFIRMED       0.68      0.76      0.72       594\n",
            "FALSE POSITIVE       0.98      1.00      0.99      1069\n",
            "\n",
            "      accuracy                           0.83      2186\n",
            "     macro avg       0.79      0.78      0.78      2186\n",
            "  weighted avg       0.83      0.83      0.83      2186\n",
            "\n"
          ],
          "name": "stdout"
        }
      ]
    },
    {
      "cell_type": "code",
      "metadata": {
        "id": "_tz21f26ljsS",
        "colab_type": "code",
        "outputId": "1502caaa-5d99-4d1b-c1b6-b5278db6bbf5",
        "colab": {
          "base_uri": "https://localhost:8080/",
          "height": 111
        }
      },
      "source": [
        "classifier"
      ],
      "execution_count": 45,
      "outputs": [
        {
          "output_type": "execute_result",
          "data": {
            "text/plain": [
              "LogisticRegression(C=1.0, class_weight=None, dual=False, fit_intercept=True,\n",
              "                   intercept_scaling=1, l1_ratio=None, max_iter=100,\n",
              "                   multi_class='warn', n_jobs=None, penalty='l2',\n",
              "                   random_state=None, solver='warn', tol=0.0001, verbose=0,\n",
              "                   warm_start=False)"
            ]
          },
          "metadata": {
            "tags": []
          },
          "execution_count": 45
        }
      ]
    },
    {
      "cell_type": "code",
      "metadata": {
        "id": "tFOqI9RfkMah",
        "colab_type": "code",
        "outputId": "1083d341-27bf-4635-ab6a-d2b5508e76d2",
        "colab": {
          "base_uri": "https://localhost:8080/",
          "height": 1000
        }
      },
      "source": [
        "# Create the GridSearchCV model\n",
        "# from sklearn.model_selection import GridSearchCV\n",
        "param_grid = {'C': [1, 5, 10, 50],\n",
        "              'penalty': ['l2', 'l1']}\n",
        "grid = GridSearchCV(classifier, param_grid, verbose=3)\n",
        "grid.fit(X_train, y_train)\n"
      ],
      "execution_count": 46,
      "outputs": [
        {
          "output_type": "stream",
          "text": [
            "Fitting 3 folds for each of 8 candidates, totalling 24 fits\n",
            "[CV] C=1, penalty=l2 .................................................\n",
            "[CV] ..................... C=1, penalty=l2, score=0.839, total=   0.1s\n",
            "[CV] C=1, penalty=l2 .................................................\n"
          ],
          "name": "stdout"
        },
        {
          "output_type": "stream",
          "text": [
            "/usr/local/lib/python3.6/dist-packages/sklearn/model_selection/_split.py:1978: FutureWarning: The default value of cv will change from 3 to 5 in version 0.22. Specify it explicitly to silence this warning.\n",
            "  warnings.warn(CV_WARNING, FutureWarning)\n",
            "[Parallel(n_jobs=1)]: Using backend SequentialBackend with 1 concurrent workers.\n",
            "/usr/local/lib/python3.6/dist-packages/sklearn/linear_model/logistic.py:432: FutureWarning: Default solver will be changed to 'lbfgs' in 0.22. Specify a solver to silence this warning.\n",
            "  FutureWarning)\n",
            "/usr/local/lib/python3.6/dist-packages/sklearn/linear_model/logistic.py:469: FutureWarning: Default multi_class will be changed to 'auto' in 0.22. Specify the multi_class option to silence this warning.\n",
            "  \"this warning.\", FutureWarning)\n",
            "[Parallel(n_jobs=1)]: Done   1 out of   1 | elapsed:    0.1s remaining:    0.0s\n",
            "/usr/local/lib/python3.6/dist-packages/sklearn/linear_model/logistic.py:432: FutureWarning: Default solver will be changed to 'lbfgs' in 0.22. Specify a solver to silence this warning.\n",
            "  FutureWarning)\n",
            "/usr/local/lib/python3.6/dist-packages/sklearn/linear_model/logistic.py:469: FutureWarning: Default multi_class will be changed to 'auto' in 0.22. Specify the multi_class option to silence this warning.\n",
            "  \"this warning.\", FutureWarning)\n"
          ],
          "name": "stderr"
        },
        {
          "output_type": "stream",
          "text": [
            "[CV] ..................... C=1, penalty=l2, score=0.836, total=   0.1s\n",
            "[CV] C=1, penalty=l2 .................................................\n",
            "[CV] ..................... C=1, penalty=l2, score=0.849, total=   0.1s\n",
            "[CV] C=1, penalty=l1 .................................................\n"
          ],
          "name": "stdout"
        },
        {
          "output_type": "stream",
          "text": [
            "[Parallel(n_jobs=1)]: Done   2 out of   2 | elapsed:    0.3s remaining:    0.0s\n",
            "/usr/local/lib/python3.6/dist-packages/sklearn/linear_model/logistic.py:432: FutureWarning: Default solver will be changed to 'lbfgs' in 0.22. Specify a solver to silence this warning.\n",
            "  FutureWarning)\n",
            "/usr/local/lib/python3.6/dist-packages/sklearn/linear_model/logistic.py:469: FutureWarning: Default multi_class will be changed to 'auto' in 0.22. Specify the multi_class option to silence this warning.\n",
            "  \"this warning.\", FutureWarning)\n",
            "/usr/local/lib/python3.6/dist-packages/sklearn/linear_model/logistic.py:432: FutureWarning: Default solver will be changed to 'lbfgs' in 0.22. Specify a solver to silence this warning.\n",
            "  FutureWarning)\n",
            "/usr/local/lib/python3.6/dist-packages/sklearn/linear_model/logistic.py:469: FutureWarning: Default multi_class will be changed to 'auto' in 0.22. Specify the multi_class option to silence this warning.\n",
            "  \"this warning.\", FutureWarning)\n"
          ],
          "name": "stderr"
        },
        {
          "output_type": "stream",
          "text": [
            "[CV] ..................... C=1, penalty=l1, score=0.870, total=   0.7s\n",
            "[CV] C=1, penalty=l1 .................................................\n"
          ],
          "name": "stdout"
        },
        {
          "output_type": "stream",
          "text": [
            "/usr/local/lib/python3.6/dist-packages/sklearn/linear_model/logistic.py:432: FutureWarning: Default solver will be changed to 'lbfgs' in 0.22. Specify a solver to silence this warning.\n",
            "  FutureWarning)\n",
            "/usr/local/lib/python3.6/dist-packages/sklearn/linear_model/logistic.py:469: FutureWarning: Default multi_class will be changed to 'auto' in 0.22. Specify the multi_class option to silence this warning.\n",
            "  \"this warning.\", FutureWarning)\n"
          ],
          "name": "stderr"
        },
        {
          "output_type": "stream",
          "text": [
            "[CV] ..................... C=1, penalty=l1, score=0.858, total=   0.8s\n",
            "[CV] C=1, penalty=l1 .................................................\n"
          ],
          "name": "stdout"
        },
        {
          "output_type": "stream",
          "text": [
            "/usr/local/lib/python3.6/dist-packages/sklearn/linear_model/logistic.py:432: FutureWarning: Default solver will be changed to 'lbfgs' in 0.22. Specify a solver to silence this warning.\n",
            "  FutureWarning)\n",
            "/usr/local/lib/python3.6/dist-packages/sklearn/linear_model/logistic.py:469: FutureWarning: Default multi_class will be changed to 'auto' in 0.22. Specify the multi_class option to silence this warning.\n",
            "  \"this warning.\", FutureWarning)\n"
          ],
          "name": "stderr"
        },
        {
          "output_type": "stream",
          "text": [
            "[CV] ..................... C=1, penalty=l1, score=0.883, total=   1.1s\n",
            "[CV] C=5, penalty=l2 .................................................\n",
            "[CV] ..................... C=5, penalty=l2, score=0.858, total=   0.2s\n",
            "[CV] C=5, penalty=l2 .................................................\n"
          ],
          "name": "stdout"
        },
        {
          "output_type": "stream",
          "text": [
            "/usr/local/lib/python3.6/dist-packages/sklearn/linear_model/logistic.py:432: FutureWarning: Default solver will be changed to 'lbfgs' in 0.22. Specify a solver to silence this warning.\n",
            "  FutureWarning)\n",
            "/usr/local/lib/python3.6/dist-packages/sklearn/linear_model/logistic.py:469: FutureWarning: Default multi_class will be changed to 'auto' in 0.22. Specify the multi_class option to silence this warning.\n",
            "  \"this warning.\", FutureWarning)\n",
            "/usr/local/lib/python3.6/dist-packages/sklearn/linear_model/logistic.py:432: FutureWarning: Default solver will be changed to 'lbfgs' in 0.22. Specify a solver to silence this warning.\n",
            "  FutureWarning)\n",
            "/usr/local/lib/python3.6/dist-packages/sklearn/linear_model/logistic.py:469: FutureWarning: Default multi_class will be changed to 'auto' in 0.22. Specify the multi_class option to silence this warning.\n",
            "  \"this warning.\", FutureWarning)\n"
          ],
          "name": "stderr"
        },
        {
          "output_type": "stream",
          "text": [
            "[CV] ..................... C=5, penalty=l2, score=0.854, total=   0.2s\n",
            "[CV] C=5, penalty=l2 .................................................\n",
            "[CV] ..................... C=5, penalty=l2, score=0.867, total=   0.2s\n",
            "[CV] C=5, penalty=l1 .................................................\n"
          ],
          "name": "stdout"
        },
        {
          "output_type": "stream",
          "text": [
            "/usr/local/lib/python3.6/dist-packages/sklearn/linear_model/logistic.py:432: FutureWarning: Default solver will be changed to 'lbfgs' in 0.22. Specify a solver to silence this warning.\n",
            "  FutureWarning)\n",
            "/usr/local/lib/python3.6/dist-packages/sklearn/linear_model/logistic.py:469: FutureWarning: Default multi_class will be changed to 'auto' in 0.22. Specify the multi_class option to silence this warning.\n",
            "  \"this warning.\", FutureWarning)\n",
            "/usr/local/lib/python3.6/dist-packages/sklearn/linear_model/logistic.py:432: FutureWarning: Default solver will be changed to 'lbfgs' in 0.22. Specify a solver to silence this warning.\n",
            "  FutureWarning)\n",
            "/usr/local/lib/python3.6/dist-packages/sklearn/linear_model/logistic.py:469: FutureWarning: Default multi_class will be changed to 'auto' in 0.22. Specify the multi_class option to silence this warning.\n",
            "  \"this warning.\", FutureWarning)\n"
          ],
          "name": "stderr"
        },
        {
          "output_type": "stream",
          "text": [
            "[CV] ..................... C=5, penalty=l1, score=0.878, total=   4.6s\n",
            "[CV] C=5, penalty=l1 .................................................\n"
          ],
          "name": "stdout"
        },
        {
          "output_type": "stream",
          "text": [
            "/usr/local/lib/python3.6/dist-packages/sklearn/linear_model/logistic.py:432: FutureWarning: Default solver will be changed to 'lbfgs' in 0.22. Specify a solver to silence this warning.\n",
            "  FutureWarning)\n",
            "/usr/local/lib/python3.6/dist-packages/sklearn/linear_model/logistic.py:469: FutureWarning: Default multi_class will be changed to 'auto' in 0.22. Specify the multi_class option to silence this warning.\n",
            "  \"this warning.\", FutureWarning)\n"
          ],
          "name": "stderr"
        },
        {
          "output_type": "stream",
          "text": [
            "[CV] ..................... C=5, penalty=l1, score=0.867, total=   1.4s\n",
            "[CV] C=5, penalty=l1 .................................................\n"
          ],
          "name": "stdout"
        },
        {
          "output_type": "stream",
          "text": [
            "/usr/local/lib/python3.6/dist-packages/sklearn/linear_model/logistic.py:432: FutureWarning: Default solver will be changed to 'lbfgs' in 0.22. Specify a solver to silence this warning.\n",
            "  FutureWarning)\n",
            "/usr/local/lib/python3.6/dist-packages/sklearn/linear_model/logistic.py:469: FutureWarning: Default multi_class will be changed to 'auto' in 0.22. Specify the multi_class option to silence this warning.\n",
            "  \"this warning.\", FutureWarning)\n"
          ],
          "name": "stderr"
        },
        {
          "output_type": "stream",
          "text": [
            "[CV] ..................... C=5, penalty=l1, score=0.892, total=   5.0s\n",
            "[CV] C=10, penalty=l2 ................................................\n"
          ],
          "name": "stdout"
        },
        {
          "output_type": "stream",
          "text": [
            "/usr/local/lib/python3.6/dist-packages/sklearn/linear_model/logistic.py:432: FutureWarning: Default solver will be changed to 'lbfgs' in 0.22. Specify a solver to silence this warning.\n",
            "  FutureWarning)\n",
            "/usr/local/lib/python3.6/dist-packages/sklearn/linear_model/logistic.py:469: FutureWarning: Default multi_class will be changed to 'auto' in 0.22. Specify the multi_class option to silence this warning.\n",
            "  \"this warning.\", FutureWarning)\n"
          ],
          "name": "stderr"
        },
        {
          "output_type": "stream",
          "text": [
            "[CV] .................... C=10, penalty=l2, score=0.862, total=   0.2s\n",
            "[CV] C=10, penalty=l2 ................................................\n",
            "[CV] .................... C=10, penalty=l2, score=0.859, total=   0.2s\n",
            "[CV] C=10, penalty=l2 ................................................\n"
          ],
          "name": "stdout"
        },
        {
          "output_type": "stream",
          "text": [
            "/usr/local/lib/python3.6/dist-packages/sklearn/linear_model/logistic.py:432: FutureWarning: Default solver will be changed to 'lbfgs' in 0.22. Specify a solver to silence this warning.\n",
            "  FutureWarning)\n",
            "/usr/local/lib/python3.6/dist-packages/sklearn/linear_model/logistic.py:469: FutureWarning: Default multi_class will be changed to 'auto' in 0.22. Specify the multi_class option to silence this warning.\n",
            "  \"this warning.\", FutureWarning)\n",
            "/usr/local/lib/python3.6/dist-packages/sklearn/linear_model/logistic.py:432: FutureWarning: Default solver will be changed to 'lbfgs' in 0.22. Specify a solver to silence this warning.\n",
            "  FutureWarning)\n",
            "/usr/local/lib/python3.6/dist-packages/sklearn/linear_model/logistic.py:469: FutureWarning: Default multi_class will be changed to 'auto' in 0.22. Specify the multi_class option to silence this warning.\n",
            "  \"this warning.\", FutureWarning)\n"
          ],
          "name": "stderr"
        },
        {
          "output_type": "stream",
          "text": [
            "[CV] .................... C=10, penalty=l2, score=0.875, total=   0.2s\n",
            "[CV] C=10, penalty=l1 ................................................\n"
          ],
          "name": "stdout"
        },
        {
          "output_type": "stream",
          "text": [
            "/usr/local/lib/python3.6/dist-packages/sklearn/linear_model/logistic.py:432: FutureWarning: Default solver will be changed to 'lbfgs' in 0.22. Specify a solver to silence this warning.\n",
            "  FutureWarning)\n",
            "/usr/local/lib/python3.6/dist-packages/sklearn/linear_model/logistic.py:469: FutureWarning: Default multi_class will be changed to 'auto' in 0.22. Specify the multi_class option to silence this warning.\n",
            "  \"this warning.\", FutureWarning)\n"
          ],
          "name": "stderr"
        },
        {
          "output_type": "stream",
          "text": [
            "[CV] .................... C=10, penalty=l1, score=0.877, total=   8.0s\n",
            "[CV] C=10, penalty=l1 ................................................\n"
          ],
          "name": "stdout"
        },
        {
          "output_type": "stream",
          "text": [
            "/usr/local/lib/python3.6/dist-packages/sklearn/linear_model/logistic.py:432: FutureWarning: Default solver will be changed to 'lbfgs' in 0.22. Specify a solver to silence this warning.\n",
            "  FutureWarning)\n",
            "/usr/local/lib/python3.6/dist-packages/sklearn/linear_model/logistic.py:469: FutureWarning: Default multi_class will be changed to 'auto' in 0.22. Specify the multi_class option to silence this warning.\n",
            "  \"this warning.\", FutureWarning)\n"
          ],
          "name": "stderr"
        },
        {
          "output_type": "stream",
          "text": [
            "[CV] .................... C=10, penalty=l1, score=0.867, total=   2.6s\n",
            "[CV] C=10, penalty=l1 ................................................\n"
          ],
          "name": "stdout"
        },
        {
          "output_type": "stream",
          "text": [
            "/usr/local/lib/python3.6/dist-packages/sklearn/linear_model/logistic.py:432: FutureWarning: Default solver will be changed to 'lbfgs' in 0.22. Specify a solver to silence this warning.\n",
            "  FutureWarning)\n",
            "/usr/local/lib/python3.6/dist-packages/sklearn/linear_model/logistic.py:469: FutureWarning: Default multi_class will be changed to 'auto' in 0.22. Specify the multi_class option to silence this warning.\n",
            "  \"this warning.\", FutureWarning)\n"
          ],
          "name": "stderr"
        },
        {
          "output_type": "stream",
          "text": [
            "[CV] .................... C=10, penalty=l1, score=0.892, total=   7.1s\n",
            "[CV] C=50, penalty=l2 ................................................\n"
          ],
          "name": "stdout"
        },
        {
          "output_type": "stream",
          "text": [
            "/usr/local/lib/python3.6/dist-packages/sklearn/linear_model/logistic.py:432: FutureWarning: Default solver will be changed to 'lbfgs' in 0.22. Specify a solver to silence this warning.\n",
            "  FutureWarning)\n",
            "/usr/local/lib/python3.6/dist-packages/sklearn/linear_model/logistic.py:469: FutureWarning: Default multi_class will be changed to 'auto' in 0.22. Specify the multi_class option to silence this warning.\n",
            "  \"this warning.\", FutureWarning)\n"
          ],
          "name": "stderr"
        },
        {
          "output_type": "stream",
          "text": [
            "[CV] .................... C=50, penalty=l2, score=0.872, total=   0.3s\n",
            "[CV] C=50, penalty=l2 ................................................\n"
          ],
          "name": "stdout"
        },
        {
          "output_type": "stream",
          "text": [
            "/usr/local/lib/python3.6/dist-packages/sklearn/linear_model/logistic.py:432: FutureWarning: Default solver will be changed to 'lbfgs' in 0.22. Specify a solver to silence this warning.\n",
            "  FutureWarning)\n",
            "/usr/local/lib/python3.6/dist-packages/sklearn/linear_model/logistic.py:469: FutureWarning: Default multi_class will be changed to 'auto' in 0.22. Specify the multi_class option to silence this warning.\n",
            "  \"this warning.\", FutureWarning)\n"
          ],
          "name": "stderr"
        },
        {
          "output_type": "stream",
          "text": [
            "[CV] .................... C=50, penalty=l2, score=0.862, total=   0.3s\n",
            "[CV] C=50, penalty=l2 ................................................\n"
          ],
          "name": "stdout"
        },
        {
          "output_type": "stream",
          "text": [
            "/usr/local/lib/python3.6/dist-packages/sklearn/linear_model/logistic.py:432: FutureWarning: Default solver will be changed to 'lbfgs' in 0.22. Specify a solver to silence this warning.\n",
            "  FutureWarning)\n",
            "/usr/local/lib/python3.6/dist-packages/sklearn/linear_model/logistic.py:469: FutureWarning: Default multi_class will be changed to 'auto' in 0.22. Specify the multi_class option to silence this warning.\n",
            "  \"this warning.\", FutureWarning)\n"
          ],
          "name": "stderr"
        },
        {
          "output_type": "stream",
          "text": [
            "[CV] .................... C=50, penalty=l2, score=0.886, total=   0.3s\n",
            "[CV] C=50, penalty=l1 ................................................\n"
          ],
          "name": "stdout"
        },
        {
          "output_type": "stream",
          "text": [
            "/usr/local/lib/python3.6/dist-packages/sklearn/linear_model/logistic.py:432: FutureWarning: Default solver will be changed to 'lbfgs' in 0.22. Specify a solver to silence this warning.\n",
            "  FutureWarning)\n",
            "/usr/local/lib/python3.6/dist-packages/sklearn/linear_model/logistic.py:469: FutureWarning: Default multi_class will be changed to 'auto' in 0.22. Specify the multi_class option to silence this warning.\n",
            "  \"this warning.\", FutureWarning)\n"
          ],
          "name": "stderr"
        },
        {
          "output_type": "stream",
          "text": [
            "[CV] .................... C=50, penalty=l1, score=0.879, total=  10.1s\n",
            "[CV] C=50, penalty=l1 ................................................\n"
          ],
          "name": "stdout"
        },
        {
          "output_type": "stream",
          "text": [
            "/usr/local/lib/python3.6/dist-packages/sklearn/linear_model/logistic.py:432: FutureWarning: Default solver will be changed to 'lbfgs' in 0.22. Specify a solver to silence this warning.\n",
            "  FutureWarning)\n",
            "/usr/local/lib/python3.6/dist-packages/sklearn/linear_model/logistic.py:469: FutureWarning: Default multi_class will be changed to 'auto' in 0.22. Specify the multi_class option to silence this warning.\n",
            "  \"this warning.\", FutureWarning)\n"
          ],
          "name": "stderr"
        },
        {
          "output_type": "stream",
          "text": [
            "[CV] .................... C=50, penalty=l1, score=0.869, total=  12.3s\n",
            "[CV] C=50, penalty=l1 ................................................\n"
          ],
          "name": "stdout"
        },
        {
          "output_type": "stream",
          "text": [
            "/usr/local/lib/python3.6/dist-packages/sklearn/linear_model/logistic.py:432: FutureWarning: Default solver will be changed to 'lbfgs' in 0.22. Specify a solver to silence this warning.\n",
            "  FutureWarning)\n",
            "/usr/local/lib/python3.6/dist-packages/sklearn/linear_model/logistic.py:469: FutureWarning: Default multi_class will be changed to 'auto' in 0.22. Specify the multi_class option to silence this warning.\n",
            "  \"this warning.\", FutureWarning)\n"
          ],
          "name": "stderr"
        },
        {
          "output_type": "stream",
          "text": [
            "[CV] .................... C=50, penalty=l1, score=0.898, total=  19.5s\n"
          ],
          "name": "stdout"
        },
        {
          "output_type": "stream",
          "text": [
            "[Parallel(n_jobs=1)]: Done  24 out of  24 | elapsed:  1.3min finished\n",
            "/usr/local/lib/python3.6/dist-packages/sklearn/linear_model/logistic.py:432: FutureWarning: Default solver will be changed to 'lbfgs' in 0.22. Specify a solver to silence this warning.\n",
            "  FutureWarning)\n",
            "/usr/local/lib/python3.6/dist-packages/sklearn/linear_model/logistic.py:469: FutureWarning: Default multi_class will be changed to 'auto' in 0.22. Specify the multi_class option to silence this warning.\n",
            "  \"this warning.\", FutureWarning)\n"
          ],
          "name": "stderr"
        },
        {
          "output_type": "execute_result",
          "data": {
            "text/plain": [
              "GridSearchCV(cv='warn', error_score='raise-deprecating',\n",
              "             estimator=LogisticRegression(C=1.0, class_weight=None, dual=False,\n",
              "                                          fit_intercept=True,\n",
              "                                          intercept_scaling=1, l1_ratio=None,\n",
              "                                          max_iter=100, multi_class='warn',\n",
              "                                          n_jobs=None, penalty='l2',\n",
              "                                          random_state=None, solver='warn',\n",
              "                                          tol=0.0001, verbose=0,\n",
              "                                          warm_start=False),\n",
              "             iid='warn', n_jobs=None,\n",
              "             param_grid={'C': [1, 5, 10, 50], 'penalty': ['l2', 'l1']},\n",
              "             pre_dispatch='2*n_jobs', refit=True, return_train_score=False,\n",
              "             scoring=None, verbose=3)"
            ]
          },
          "metadata": {
            "tags": []
          },
          "execution_count": 46
        }
      ]
    },
    {
      "cell_type": "code",
      "metadata": {
        "id": "2lQMarlolZq6",
        "colab_type": "code",
        "outputId": "7098d929-9509-49c9-e202-af02845c22a8",
        "colab": {
          "base_uri": "https://localhost:8080/",
          "height": 55
        }
      },
      "source": [
        "print(grid.best_params_)\n",
        "print(grid.best_score_)\n"
      ],
      "execution_count": 47,
      "outputs": [
        {
          "output_type": "stream",
          "text": [
            "{'C': 50, 'penalty': 'l1'}\n",
            "0.8819762122598354\n"
          ],
          "name": "stdout"
        }
      ]
    },
    {
      "cell_type": "code",
      "metadata": {
        "id": "rUS2XTagmO3K",
        "colab_type": "code",
        "outputId": "1a9b7280-56c3-4da0-ff69-3a73fc9c4c10",
        "colab": {
          "base_uri": "https://localhost:8080/",
          "height": 111
        }
      },
      "source": [
        "classifier = LogisticRegression(C=50, penalty='l1')\n",
        "classifier"
      ],
      "execution_count": 48,
      "outputs": [
        {
          "output_type": "execute_result",
          "data": {
            "text/plain": [
              "LogisticRegression(C=50, class_weight=None, dual=False, fit_intercept=True,\n",
              "                   intercept_scaling=1, l1_ratio=None, max_iter=100,\n",
              "                   multi_class='warn', n_jobs=None, penalty='l1',\n",
              "                   random_state=None, solver='warn', tol=0.0001, verbose=0,\n",
              "                   warm_start=False)"
            ]
          },
          "metadata": {
            "tags": []
          },
          "execution_count": 48
        }
      ]
    },
    {
      "cell_type": "code",
      "metadata": {
        "id": "CY423p-Tm5Ws",
        "colab_type": "code",
        "outputId": "86bafd10-7174-4c82-f37b-4e7c075c7bdf",
        "colab": {
          "base_uri": "https://localhost:8080/",
          "height": 131
        }
      },
      "source": [
        "classifier.fit(X_train, y_train)\n"
      ],
      "execution_count": 49,
      "outputs": [
        {
          "output_type": "stream",
          "text": [
            "/usr/local/lib/python3.6/dist-packages/sklearn/linear_model/logistic.py:432: FutureWarning: Default solver will be changed to 'lbfgs' in 0.22. Specify a solver to silence this warning.\n",
            "  FutureWarning)\n",
            "/usr/local/lib/python3.6/dist-packages/sklearn/linear_model/logistic.py:469: FutureWarning: Default multi_class will be changed to 'auto' in 0.22. Specify the multi_class option to silence this warning.\n",
            "  \"this warning.\", FutureWarning)\n"
          ],
          "name": "stderr"
        },
        {
          "output_type": "execute_result",
          "data": {
            "text/plain": [
              "0.8764867337602927"
            ]
          },
          "metadata": {
            "tags": []
          },
          "execution_count": 49
        }
      ]
    },
    {
      "cell_type": "code",
      "metadata": {
        "id": "IuoKN-_qnAwS",
        "colab_type": "code",
        "outputId": "783558ee-93fd-4cda-a594-c743ee434d6a",
        "colab": {
          "base_uri": "https://localhost:8080/",
          "height": 36
        }
      },
      "source": [
        "classifier.score(X_test, y_test)"
      ],
      "execution_count": 50,
      "outputs": [
        {
          "output_type": "execute_result",
          "data": {
            "text/plain": [
              "0.8764867337602927"
            ]
          },
          "metadata": {
            "tags": []
          },
          "execution_count": 50
        }
      ]
    }
  ]
}